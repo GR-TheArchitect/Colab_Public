{
  "nbformat": 4,
  "nbformat_minor": 0,
  "metadata": {
    "kernelspec": {
      "display_name": "Python 3",
      "language": "python",
      "name": "python3"
    },
    "language_info": {
      "codemirror_mode": {
        "name": "ipython",
        "version": 3
      },
      "file_extension": ".py",
      "mimetype": "text/x-python",
      "name": "python",
      "nbconvert_exporter": "python",
      "pygments_lexer": "ipython3",
      "version": "3.6.6"
    },
    "colab": {
      "name": "qc.ipynb",
      "provenance": [],
      "include_colab_link": true
    }
  },
  "cells": [
    {
      "cell_type": "markdown",
      "metadata": {
        "id": "view-in-github",
        "colab_type": "text"
      },
      "source": [
        "<a href=\"https://colab.research.google.com/github/GR-TheArchitect/Colab_Public/blob/master/qc.ipynb\" target=\"_parent\"><img src=\"https://colab.research.google.com/assets/colab-badge.svg\" alt=\"Open In Colab\"/></a>"
      ]
    },
    {
      "cell_type": "code",
      "metadata": {
        "id": "QvqR-x6TstXZ",
        "colab_type": "code",
        "colab": {}
      },
      "source": [
        "import random"
      ],
      "execution_count": 0,
      "outputs": []
    },
    {
      "cell_type": "code",
      "metadata": {
        "id": "xGhGIExIstXd",
        "colab_type": "code",
        "colab": {}
      },
      "source": [
        "import tensorflow\n",
        "from tensorflow import keras\n",
        "import sys"
      ],
      "execution_count": 0,
      "outputs": []
    },
    {
      "cell_type": "code",
      "metadata": {
        "id": "oqupz6wustXg",
        "colab_type": "code",
        "colab": {}
      },
      "source": [
        "import cirq"
      ],
      "execution_count": 0,
      "outputs": []
    },
    {
      "cell_type": "code",
      "metadata": {
        "id": "DV5JuNy9stXj",
        "colab_type": "code",
        "colab": {}
      },
      "source": [
        "def make_quantum_teleportation_circuit(ranX, ranY):\n",
        "    circuit = cirq.Circuit()\n",
        "    msg, alice, bob = cirq.LineQubit.range(3)\n",
        "    circuit.append([cirq.H(alice), cirq.CNOT(alice, bob)])\n",
        "    circuit.append([cirq.X(msg)**ranX, cirq.Y(msg)**ranY])\n",
        "    circuit.append([cirq.CNOT(msg, alice), cirq.H(msg)])\n",
        "    circuit.append(cirq.measure(msg, alice))\n",
        "    circuit.append([cirq.CNOT(alice, bob), cirq.CZ(msg, bob)])\n",
        "    \n",
        "    return msg, circuit"
      ],
      "execution_count": 0,
      "outputs": []
    },
    {
      "cell_type": "code",
      "metadata": {
        "id": "USRtyAnTstXl",
        "colab_type": "code",
        "colab": {}
      },
      "source": [
        "def main():\n",
        "    ranX = random.random()\n",
        "    ranY= random.random()\n",
        "    msg, circuit = make_quantum_teleportation_circuit(ranX, ranY)\n",
        "    \n",
        "    sim = cirq.Simulator()\n",
        "    message = sim.simulate(cirq.Circuit.from_ops([cirq.X(msg)**ranX, cirq.Y(msg)**ranY]))\n",
        "    \n",
        "    print(\"Bloch Sphere of Alice's qubit:\")\n",
        "    b0X, b0Y, b0Z = cirq.bloch_vector_from_state_vector(message.final_state, 0)\n",
        "    print(\"x: \", round(b0X, 4),\n",
        "          \"y: \", round(b0Y, 4),\n",
        "          \"z: \", round(b0Z, 4))\n",
        "    \n",
        "    print(\"\\nCircuit:\")\n",
        "    print(circuit)\n",
        "    \n",
        "    final_results = sim.simulate(circuit)\n",
        "\n",
        "    print(\"\\nBloch Sphere of Bob's qubit:\")\n",
        "    b2X, b2Y, b2Z = cirq.bloch_vector_from_state_vector(final_results.final_state, 2)\n",
        "\n",
        "    print(\"x: \", round(b2X, 4),\n",
        "          \"y: \", round(b2Y, 4),\n",
        "          \"z: \", round(b2Z, 4))\n",
        "\n",
        "    if __name__ == '__main__':\n",
        "        main()"
      ],
      "execution_count": 0,
      "outputs": []
    },
    {
      "cell_type": "code",
      "metadata": {
        "id": "a7KqF4vlstXo",
        "colab_type": "code",
        "colab": {}
      },
      "source": [
        "import matplotlib.pyplot as plt\n",
        "import sympy"
      ],
      "execution_count": 0,
      "outputs": []
    },
    {
      "cell_type": "code",
      "metadata": {
        "id": "Gm1k_j6QstXq",
        "colab_type": "code",
        "colab": {},
        "outputId": "2fce9684-6334-43c3-b295-08b24eafcd91"
      },
      "source": [
        "qbit = cirq.LineQubit(0)\n",
        "circ = cirq.Circuit()\n",
        "\n",
        "symbol = sympy.Symbol(\"t\")\n",
        "circ.append(cirq.XPowGate(exponent=symbol) (qbit))\n",
        "\n",
        "circ.append(cirq.measure(qbit, key=\"z\"))\n",
        "\n",
        "print(\"Circuit:\")\n",
        "print(circ)\n",
        "\n",
        "sweep = cirq.Linspace(key=symbol.name, start=0.0, stop=2.0, length=100)\n",
        "sim = cirq.Simulator()\n",
        "res = sim.run_sweep(circ, sweep, repetitions=1000)\n",
        "\n",
        "angles = [x[0][1] for x in sweep.param_tuples()]\n",
        "zeros = [res[i].histogram(key=\"z\") [0] / 1000 for i in range(len(res))]\n",
        "plt.plot(angles, zeros, \"--\", linewidth=3)"
      ],
      "execution_count": 0,
      "outputs": [
        {
          "output_type": "stream",
          "text": [
            "Circuit:\n",
            "0: ───X^t───M('z')───\n"
          ],
          "name": "stdout"
        },
        {
          "output_type": "execute_result",
          "data": {
            "text/plain": [
              "[<matplotlib.lines.Line2D at 0x1cb89ce1f28>]"
            ]
          },
          "metadata": {
            "tags": []
          },
          "execution_count": 17
        },
        {
          "output_type": "display_data",
          "data": {
            "image/png": "[encoded data removed]",
            "text/plain": [
              "<Figure size 432x288 with 1 Axes>"
            ]
          },
          "metadata": {
            "tags": [],
            "needs_background": "light"
          }
        }
      ]
    },
    {
      "cell_type": "code",
      "metadata": {
        "id": "2i1hBblMstXu",
        "colab_type": "code",
        "colab": {},
        "outputId": "1d55c23d-ea22-4612-a267-6f3ff322898a"
      },
      "source": [
        "n = 10\n",
        "\n",
        "def bitstring(bits):\n",
        "    return ''.join('1' if e else '0' for e in bits)\n",
        "\n",
        "qreg = [cirq.LineQubit(x) for x in range(n)]\n",
        "circ = cirq.Circuit()\n",
        "\n",
        "for x in range(n):\n",
        "    circ.append([cirq.H(qreg[x]), cirq.measure(qreg[x])])\n",
        "\n",
        "sim = cirq.Simulator()\n",
        "res = sim.run(circ, repetitions=10)\n",
        "\n",
        "#bits = bitstring(res.measurements.values())\n",
        "\n",
        "print(res)"
      ],
      "execution_count": 0,
      "outputs": [
        {
          "output_type": "stream",
          "text": [
            "0=0110010010\n",
            "1=1100001011\n",
            "2=0010100100\n",
            "3=0001101110\n",
            "4=1011010101\n",
            "5=1010101110\n",
            "6=0100001000\n",
            "7=0000111010\n",
            "8=0101110101\n",
            "9=1100001110\n"
          ],
          "name": "stdout"
        }
      ]
    },
    {
      "cell_type": "code",
      "metadata": {
        "id": "yrxbgmF7stXw",
        "colab_type": "code",
        "colab": {}
      },
      "source": [
        ""
      ],
      "execution_count": 0,
      "outputs": []
    }
  ]
}