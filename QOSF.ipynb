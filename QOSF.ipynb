{
  "nbformat": 4,
  "nbformat_minor": 0,
  "metadata": {
    "colab": {
      "name": "QOSF.ipynb",
      "provenance": [],
      "collapsed_sections": [],
      "authorship_tag": "ABX9TyMaZ2aC7FMnLYdc8Nppl9FL",
      "include_colab_link": true
    },
    "kernelspec": {
      "name": "python3",
      "display_name": "Python 3"
    }
  },
  "cells": [
    {
      "cell_type": "markdown",
      "metadata": {
        "id": "view-in-github",
        "colab_type": "text"
      },
      "source": [
        "<a href=\"https://colab.research.google.com/github/GR-TheArchitect/Colab_Public/blob/master/QOSF.ipynb\" target=\"_parent\"><img src=\"https://colab.research.google.com/assets/colab-badge.svg\" alt=\"Open In Colab\"/></a>"
      ]
    },
    {
      "cell_type": "markdown",
      "metadata": {
        "id": "D6XTrmC2hBis",
        "colab_type": "text"
      },
      "source": [
        "**Below is my attempt to solve tasks 2 and 4**"
      ]
    },
    {
      "cell_type": "code",
      "metadata": {
        "id": "u7lMisL5HfDC",
        "colab_type": "code",
        "colab": {}
      },
      "source": [
        "#installing the pytket qiskit package\n",
        "!pip install pytket-qiskit"
      ],
      "execution_count": null,
      "outputs": []
    },
    {
      "cell_type": "code",
      "metadata": {
        "id": "zmD8yW2C0Wus",
        "colab_type": "code",
        "colab": {}
      },
      "source": [
        "from pytket.backends.ibm import AerStateBackend, AerBackend, AerUnitaryBackend\n",
        "from pytket.backends.ibm import IBMQBackend\n",
        "from qiskit import QuantumCircuit, execute, Aer\n",
        "from qiskit.visualization import plot_histogram, plot_bloch_vector \n",
        "from qiskit.visualization import plot_bloch_multivector\n",
        "from qiskit.quantum_info import Statevector\n",
        "backend = Aer.get_backend('statevector_simulator')\n",
        "backend_q = Aer.get_backend('qasm_simulator')\n",
        "from collections import defaultdict\n",
        "\n",
        "from sympy import I, Matrix, symbols\n",
        "import numpy as np\n",
        "from sympy.physics.quantum import TensorProduct\n",
        "from math import sqrt, pi\n",
        "import matplotlib.pyplot as plt"
      ],
      "execution_count": 2,
      "outputs": []
    },
    {
      "cell_type": "markdown",
      "metadata": {
        "id": "El7uEKvmg5IE",
        "colab_type": "text"
      },
      "source": [
        "**Task #2**"
      ]
    },
    {
      "cell_type": "code",
      "metadata": {
        "id": "wDSJffw7zwIk",
        "colab_type": "code",
        "colab": {
          "base_uri": "https://localhost:8080/",
          "height": 93
        },
        "outputId": "c627bd79-a15c-4198-af87-d819a5f8c302"
      },
      "source": [
        "#task 2...this gate specification is based on my own choosing\n",
        "#Further down you'll fine the solution as per the guidelines in the problem\n",
        "\n",
        "my_qc = QuantumCircuit(2)\n",
        "my_qc.x(0)            # a NOT gate\n",
        "my_qc.h(1)            # a Hadamard gate\n",
        "my_qc.cx(1, 0)        # a C-NOT gate\n",
        "\n",
        "my_qc.draw()"
      ],
      "execution_count": 5,
      "outputs": [
        {
          "output_type": "execute_result",
          "data": {
            "text/html": [
              "<pre style=\"word-wrap: normal;white-space: pre;background: #fff0;line-height: 1.1;font-family: &quot;Courier New&quot;,Courier,monospace\">     ┌───┐┌───┐\n",
              "q_0: ┤ X ├┤ X ├\n",
              "     ├───┤└─┬─┘\n",
              "q_1: ┤ H ├──■──\n",
              "     └───┘     </pre>"
            ],
            "text/plain": [
              "     ┌───┐┌───┐\n",
              "q_0: ┤ X ├┤ X ├\n",
              "     ├───┤└─┬─┘\n",
              "q_1: ┤ H ├──■──\n",
              "     └───┘     "
            ]
          },
          "metadata": {
            "tags": []
          },
          "execution_count": 5
        }
      ]
    },
    {
      "cell_type": "code",
      "metadata": {
        "id": "SbNkP_0nz-9d",
        "colab_type": "code",
        "colab": {
          "base_uri": "https://localhost:8080/",
          "height": 354
        },
        "outputId": "dcf9754a-2182-4422-d45f-d133a12b08dd"
      },
      "source": [
        "results = execute(my_qc, backend).result().get_statevector()\n",
        "counts = execute(my_qc, backend).result().get_counts()\n",
        "\n",
        "print(results)\n",
        "plot_histogram(counts)"
      ],
      "execution_count": 6,
      "outputs": [
        {
          "output_type": "stream",
          "text": [
            "[0.        +0.j 0.70710678+0.j 0.70710678+0.j 0.        +0.j]\n"
          ],
          "name": "stdout"
        },
        {
          "output_type": "execute_result",
          "data": {
            "image/png": "[encoded data removed]",
            "text/plain": [
              "<Figure size 504x360 with 1 Axes>"
            ]
          },
          "metadata": {
            "tags": []
          },
          "execution_count": 6
        }
      ]
    },
    {
      "cell_type": "code",
      "metadata": {
        "id": "nEqMZXxy6_L6",
        "colab_type": "code",
        "colab": {
          "base_uri": "https://localhost:8080/",
          "height": 388
        },
        "outputId": "58dc993c-e3bc-4c7c-c3ba-9abf39cc3cf8"
      },
      "source": [
        "sv = Statevector.from_label('00') #alternative code\n",
        "new_sv = sv.evolve(my_qc)\n",
        "print(new_sv)\n",
        "\n",
        "counts = new_sv.sample_counts(shots=100000)\n",
        "plot_histogram(counts)"
      ],
      "execution_count": 7,
      "outputs": [
        {
          "output_type": "stream",
          "text": [
            "Statevector([0.        +0.j, 0.70710678+0.j, 0.70710678+0.j,\n",
            "             0.        +0.j],\n",
            "            dims=(2, 2))\n"
          ],
          "name": "stdout"
        },
        {
          "output_type": "execute_result",
          "data": {
            "image/png": "[encoded data removed]",
            "text/plain": [
              "<Figure size 504x360 with 1 Axes>"
            ]
          },
          "metadata": {
            "tags": []
          },
          "execution_count": 7
        }
      ]
    },
    {
      "cell_type": "markdown",
      "metadata": {
        "id": "pL48I0VtpqW9",
        "colab_type": "text"
      },
      "source": [
        "**The code below is meant to speed up the simulation of uniform variates**"
      ]
    },
    {
      "cell_type": "code",
      "metadata": {
        "id": "WC3bj5YYSAha",
        "colab_type": "code",
        "colab": {}
      },
      "source": [
        "#Generating uniform variates U[0,1] This is a 'Minimal Standard' Uniform RN generator\n",
        "\n",
        "import random\n",
        "from random import seed\n",
        "from random import random\n",
        "\n",
        "class stat_var():\n",
        "  IA_1 = 16807\n",
        "  IM_1 = 2147483647\n",
        "  AM_1 = 1 / IM_1\n",
        "  IQ_1 = 127773\n",
        "  IR_1 = 2836\n",
        "  Mask_1 = 123459876\n",
        "\n",
        "def stat_ran0():\n",
        "  stat_ran = 0\n",
        "  NOT_FIRST_TIME = False    \n",
        "  if NOT_FIRST_TIME == False:      \n",
        "    stat_var.IA_1\n",
        "    stat_var.IM_1\n",
        "    stat_var.AM_1\n",
        "    stat_var.IQ_1\n",
        "    stat_var.IR_1\n",
        "    stat_var.Mask_1\n",
        "\n",
        "    Seed_1 = int(random() * stat_var.IM_1)            \n",
        "    NOT_FIRST_TIME = True\n",
        "    \n",
        "  k = int(Seed_1 / stat_var.IQ_1)\n",
        "    \n",
        "  Seed_1 = stat_var.IA_1 * (Seed_1 - k * stat_var.IQ_1) - stat_var.IR_1 * k\n",
        "  if Seed_1 < 0: \n",
        "    Seed_1 = Seed_1 + stat_var.IM_1\n",
        "\n",
        "  return stat_var.AM_1 * Seed_1\n",
        "\n",
        "#print(stat_ran0())"
      ],
      "execution_count": 4,
      "outputs": []
    },
    {
      "cell_type": "markdown",
      "metadata": {
        "id": "H-jhSTdAn7TI",
        "colab_type": "text"
      },
      "source": [
        "**Task 2: using the gates as in the problem guidelines and simulating over all angles. Two methods are implemented, a simulation method over all values of theta and a simple search to find where the angle is**"
      ]
    },
    {
      "cell_type": "markdown",
      "metadata": {
        "id": "9NnsiiYfb115",
        "colab_type": "text"
      },
      "source": [
        "**First is the simulation over all theta values. I wasn't sure what the guidelines meant by noise. In the simulation, the noise is provided by the random uniform variate.**"
      ]
    },
    {
      "cell_type": "code",
      "metadata": {
        "id": "-YtfOgtBJJTK",
        "colab_type": "code",
        "colab": {
          "base_uri": "https://localhost:8080/",
          "height": 34
        },
        "outputId": "a95c43fc-a3d2-4595-cb59-09b8a781c675"
      },
      "source": [
        "#Compare the results for different numbers of measurements: 1, 10, 100, 1000: the code allows for\n",
        "  #any number of measurements and iterations. I found that I needed at least 10000\n",
        "  #iterations or so to get consistency in the results.\n",
        "\n",
        "def qc_vqe(theta):\n",
        "   \n",
        "  my_circuit = QuantumCircuit(2, 2)\n",
        "  my_circuit.ry(theta, 0)   #iterations over theta         \n",
        "  my_circuit.cx(0, 1)            #initiates a Bell's state     \n",
        "  my_circuit.rx(pi, 1)           #switches to desired state\n",
        "\n",
        "  my_circuit.measure([0, 1], [0, 1])  #one measurement per iteration\n",
        "\n",
        "  st_count = execute(my_circuit, backend_q, shots=1).result().get_counts()\n",
        "  col_c = st_count.items()\n",
        "\n",
        "  return st_count\n",
        "\n",
        "n_counter = defaultdict(int)\n",
        "\n",
        "for i in range(10000):\n",
        "  n_vqe = round(stat_ran0(), 10) \n",
        "  theta_vqe = n_vqe * 2 * np.pi #round(np.random.uniform(0, 2 * np.pi), 10) \n",
        "  \n",
        "  spit = qc_vqe(theta_vqe)\n",
        "  \n",
        "  for p, d in spit.items():\n",
        "   n_counter[p] += d\n",
        "\n",
        "print(n_counter.items())"
      ],
      "execution_count": 16,
      "outputs": [
        {
          "output_type": "stream",
          "text": [
            "dict_items([('10', 4944), ('01', 5056)])\n"
          ],
          "name": "stdout"
        }
      ]
    },
    {
      "cell_type": "markdown",
      "metadata": {
        "id": "gM6e4_QgdP5M",
        "colab_type": "text"
      },
      "source": [
        "**Next is a simple search for where the angle should be to get a 50/50 probability. Since the guidelines tell us what the final eigenstate should be (|0> and |1>) I didn't feel it was important to randomize both Ry and Rx. The results are presented as: angle (in term of pi), and % of simulations in each state.**"
      ]
    },
    {
      "cell_type": "code",
      "metadata": {
        "id": "UIwqTDwgC7lg",
        "colab_type": "code",
        "colab": {}
      },
      "source": [
        "def qc_GD(theta):\n",
        "   \n",
        "  GD_circuit = QuantumCircuit(2)\n",
        "  GD_circuit.ry(theta, 0)   #iterations over theta         \n",
        "  GD_circuit.cx(0, 1)            #initiates a Bell's state     \n",
        "  GD_circuit.rx(pi, 1)           #switches to desired state\n",
        "\n",
        "  #GD_circuit.measure([0, 1], [0, 1])  \n",
        "\n",
        "  #GD_count = execute(GD_circuit, backend_q, shots=1).result().get_counts()\n",
        "  #col_GD = GD_count.items()\n",
        "\n",
        "  return GD_circuit"
      ],
      "execution_count": 86,
      "outputs": []
    },
    {
      "cell_type": "code",
      "metadata": {
        "id": "mL4fy2dfa8Lq",
        "colab_type": "code",
        "colab": {}
      },
      "source": [
        "def measure_zz_circuit(given_circuit):\n",
        "    zz_meas = given_circuit.copy()\n",
        "    zz_meas.measure_all()\n",
        "    return zz_meas"
      ],
      "execution_count": 104,
      "outputs": []
    },
    {
      "cell_type": "code",
      "metadata": {
        "id": "YJkr8colOMXO",
        "colab_type": "code",
        "colab": {}
      },
      "source": [
        "def measure_state(given_circuit, num_shots):\n",
        "\n",
        "    zz_meas = measure_zz_circuit(given_circuit)\n",
        "    \n",
        "    result = execute(zz_meas, backend = backend_q, shots = num_shots).result()\n",
        "    counts = result.get_counts(zz_meas)\n",
        "\n",
        "    if '00' not in counts:\n",
        "        counts['00'] = 0\n",
        "    if '01' not in counts:\n",
        "        counts['01'] = 0\n",
        "    if '10' not in counts:\n",
        "        counts['10'] = 0\n",
        "    if '11' not in counts:\n",
        "        counts['11'] = 0 \n",
        "\n",
        "    total_counts = counts['00'] + counts['11'] + counts['01'] + counts['10']\n",
        "    zz = counts['00'] + counts['11'] - counts['01'] - counts['10']\n",
        "    zz = zz / total_counts\n",
        "    \n",
        "    return counts['00']/total_counts, counts['11']/total_counts, counts['01']/total_counts, counts['10']/total_counts\n"
      ],
      "execution_count": 89,
      "outputs": []
    },
    {
      "cell_type": "markdown",
      "metadata": {
        "id": "ynRaiFpAgvUu",
        "colab_type": "text"
      },
      "source": [
        "**Not shown below, but the accuracy increases with the number of simulations as expected. With 10 simulations, it's hard to pinpoint the correct angle range. The range starts becoming much more visible with 1000 simulations and more. The angle is given in terms of pi (0 to 2pi) and so there are two close solutions as the angle goes through one complete cycle**"
      ]
    },
    {
      "cell_type": "code",
      "metadata": {
        "id": "vhtIM08HVKq5",
        "colab_type": "code",
        "colab": {
          "base_uri": "https://localhost:8080/",
          "height": 537
        },
        "outputId": "a58a9635-a08d-41cf-937d-78c09661942c"
      },
      "source": [
        "angle_range = np.linspace(0.0, 2.0*np.pi, 30)\n",
        "\n",
        "for angle in angle_range:\n",
        "  trial_circuit = qc_GD(angle)\n",
        "  trial_results = measure_state(trial_circuit, 10000)\n",
        "\n",
        "  print(round(angle/np.pi, 6), trial_results)"
      ],
      "execution_count": 94,
      "outputs": [
        {
          "output_type": "stream",
          "text": [
            "0.0 (0.0, 0.0, 0.0, 1.0)\n",
            "0.068966 (0.0, 0.0, 0.0105, 0.9895)\n",
            "0.137931 (0.0, 0.0, 0.0466, 0.9534)\n",
            "0.206897 (0.0, 0.0, 0.0991, 0.9009)\n",
            "0.275862 (0.0, 0.0, 0.1742, 0.8258)\n",
            "0.344828 (0.0, 0.0, 0.2633, 0.7367)\n",
            "0.413793 (0.0, 0.0, 0.3691, 0.6309)\n",
            "0.482759 (0.0, 0.0, 0.4741, 0.5259)\n",
            "0.551724 (0.0, 0.0, 0.5879, 0.4121)\n",
            "0.62069 (0.0, 0.0, 0.6834, 0.3166)\n",
            "0.689655 (0.0, 0.0, 0.778, 0.222)\n",
            "0.758621 (0.0, 0.0, 0.8673, 0.1327)\n",
            "0.827586 (0.0, 0.0, 0.9271, 0.0729)\n",
            "0.896552 (0.0, 0.0, 0.9751, 0.0249)\n",
            "0.965517 (0.0, 0.0, 0.997, 0.003)\n",
            "1.034483 (0.0, 0.0, 0.9974, 0.0026)\n",
            "1.103448 (0.0, 0.0, 0.9749, 0.0251)\n",
            "1.172414 (0.0, 0.0, 0.9272, 0.0728)\n",
            "1.241379 (0.0, 0.0, 0.8646, 0.1354)\n",
            "1.310345 (0.0, 0.0, 0.7766, 0.2234)\n",
            "1.37931 (0.0, 0.0, 0.6933, 0.3067)\n",
            "1.448276 (0.0, 0.0, 0.578, 0.422)\n",
            "1.517241 (0.0, 0.0, 0.4722, 0.5278)\n",
            "1.586207 (0.0, 0.0, 0.3534, 0.6466)\n",
            "1.655172 (0.0, 0.0, 0.2632, 0.7368)\n",
            "1.724138 (0.0, 0.0, 0.1797, 0.8203)\n",
            "1.793103 (0.0, 0.0, 0.1013, 0.8987)\n",
            "1.862069 (0.0, 0.0, 0.0458, 0.9542)\n",
            "1.931034 (0.0, 0.0, 0.0114, 0.9886)\n",
            "2.0 (0.0, 0.0, 0.0, 1.0)\n"
          ],
          "name": "stdout"
        }
      ]
    },
    {
      "cell_type": "markdown",
      "metadata": {
        "id": "Md8brCr-gsyV",
        "colab_type": "text"
      },
      "source": [
        "**Implementing Task 4: I attempted to do this but couldn't come up with something on my own. I learned how to run vqe-like circuits during the Qiskit Summer School but couldn't come up with something different.**\n",
        "\n"
      ]
    },
    {
      "cell_type": "code",
      "metadata": {
        "id": "WhfP03QpEa3m",
        "colab_type": "code",
        "colab": {}
      },
      "source": [
        "#Task 4: \n",
        "#defining Pauli matrices\n",
        "\n",
        "sx = np.array([[0, 1],  [ 1, 0]], dtype=np.complex128)\n",
        "sy = np.array([[0, -1j],[1j, 0]], dtype=np.complex128)\n",
        "sz = np.array([[1, 0],  [0, -1]], dtype=np.complex128)\n",
        "id = np.array([[1, 0],  [ 0, 1]], dtype=np.complex128)"
      ],
      "execution_count": 118,
      "outputs": []
    },
    {
      "cell_type": "code",
      "metadata": {
        "id": "HvywFl0rFEUz",
        "colab_type": "code",
        "colab": {
          "base_uri": "https://localhost:8080/",
          "height": 86
        },
        "outputId": "1eb1fb5a-cee8-450b-81e7-2f74cd26f8ce"
      },
      "source": [
        "#decomposing the matrix [[1,0,0,0], [0,0,-1,0], [0,-1,0,0], [0,0,0,1]]\n",
        "#algorithm due to Michael H. Goerz: https://michaelgoerz.net/\n",
        "\n",
        "def HS(M1, M2):\n",
        "    \"\"\"Hilbert-Schmidt-Product of two matrices M1, M2\"\"\"\n",
        "    return (np.dot(M1.conjugate().transpose(), M2)).trace()\n",
        "\n",
        "def c2s(c):\n",
        "    \"\"\"Return a string representation of a complex number c\"\"\"\n",
        "    if c == 0.0:\n",
        "        return \"0\"\n",
        "    if c.imag == 0:\n",
        "        return \"%g\" % c.real\n",
        "    elif c.real == 0:\n",
        "        return \"%gj\" % c.imag\n",
        "    else:\n",
        "        return \"%g+%gj\" % (c.real, c.imag)\n",
        "\n",
        "def decompose(H):\n",
        "    \"\"\"Decompose Hermitian 4x4 matrix H into Pauli matrices\"\"\"\n",
        "    from numpy import kron\n",
        "    sx = np.array([[0, 1],  [ 1, 0]], dtype=np.complex128)\n",
        "    sy = np.array([[0, -1j],[1j, 0]], dtype=np.complex128)\n",
        "    sz = np.array([[1, 0],  [0, -1]], dtype=np.complex128)\n",
        "    id = np.array([[1, 0],  [ 0, 1]], dtype=np.complex128)\n",
        "    S = [id, sx, sy, sz]\n",
        "    labels = ['I', 'sigma_x', 'sigma_y', 'sigma_z']\n",
        "    for i in range(4):\n",
        "        for j in range(4):\n",
        "            label = labels[i] + ' \\ ' + labels[j]\n",
        "            a_ij = 0.25 * HS(kron(S[i], S[j]), H)\n",
        "            if a_ij != 0.0:\n",
        "                print(c2s(a_ij), label)\n",
        "\n",
        "H = np.array(np.array([[1,0,0,0], [0,0,-1,0], [0,-1,0,0], [0,0,0,1]]), dtype=np.complex128)\n",
        "decompose(H)"
      ],
      "execution_count": 119,
      "outputs": [
        {
          "output_type": "stream",
          "text": [
            "0.5 I \\ I\n",
            "-0.5 sigma_x \\ sigma_x\n",
            "-0.5 sigma_y \\ sigma_y\n",
            "0.5 sigma_z \\ sigma_z\n"
          ],
          "name": "stdout"
        }
      ]
    },
    {
      "cell_type": "code",
      "metadata": {
        "id": "-XVJdGOrFoWB",
        "colab_type": "code",
        "colab": {
          "base_uri": "https://localhost:8080/",
          "height": 86
        },
        "outputId": "36751cac-37ce-4961-e2e0-318fc374cb01"
      },
      "source": [
        "#Re-constructing the matrix with the tensor product\n",
        "ha = TensorProduct(id, id)*0.5 + TensorProduct(sx, sx)*-0.5 + TensorProduct(sy, sy)*-0.5 + TensorProduct(sz, sz)*0.5\n",
        "print(ha)"
      ],
      "execution_count": 120,
      "outputs": [
        {
          "output_type": "stream",
          "text": [
            "[[ 1.+0.j  0.+0.j  0.+0.j  0.+0.j]\n",
            " [ 0.+0.j  0.+0.j -1.+0.j  0.+0.j]\n",
            " [ 0.+0.j -1.+0.j  0.+0.j  0.+0.j]\n",
            " [ 0.+0.j  0.+0.j  0.+0.j  1.+0.j]]\n"
          ],
          "name": "stdout"
        }
      ]
    },
    {
      "cell_type": "code",
      "metadata": {
        "id": "48l9INT9Ve3I",
        "colab_type": "code",
        "colab": {
          "base_uri": "https://localhost:8080/",
          "height": 86
        },
        "outputId": "8733f4f1-4653-4cbe-b5ac-53ecec0f5ee9"
      },
      "source": [
        "TensorProduct(sy, sy)"
      ],
      "execution_count": 125,
      "outputs": [
        {
          "output_type": "execute_result",
          "data": {
            "text/plain": [
              "array([[ 0.+0.j,  0.-0.j,  0.-0.j, -1.+0.j],\n",
              "       [ 0.+0.j,  0.+0.j,  1.-0.j,  0.-0.j],\n",
              "       [ 0.+0.j,  1.-0.j,  0.+0.j,  0.-0.j],\n",
              "       [-1.+0.j,  0.+0.j,  0.+0.j,  0.+0.j]])"
            ]
          },
          "metadata": {
            "tags": []
          },
          "execution_count": 125
        }
      ]
    },
    {
      "cell_type": "code",
      "metadata": {
        "id": "fxKp7fknGc9A",
        "colab_type": "code",
        "colab": {
          "base_uri": "https://localhost:8080/",
          "height": 34
        },
        "outputId": "c5aaf712-d277-4b87-fc8b-fd12f602c036"
      },
      "source": [
        "#diagonalizing the matrix and computing the eigenvalues with qiskit\n",
        "\n",
        "from qiskit.quantum_info.operators import Operator, Pauli\n",
        "\n",
        "h = [[0.5, Pauli(label='II')], \n",
        "     [-0.5, Pauli(label='XX')], \n",
        "     [-0.5, Pauli(label='YY')], \n",
        "     [0.5, Pauli(label='ZZ')]\n",
        "    ]\n",
        "H_m = []\n",
        "for hi in h:\n",
        "    H_m.append(hi[0]*Operator(hi[1]))\n",
        "np.linalg.eigvalsh((H_m[0]+H_m[1]+H_m[2]+H_m[3]).data)\n"
      ],
      "execution_count": 8,
      "outputs": [
        {
          "output_type": "execute_result",
          "data": {
            "text/plain": [
              "array([-1.,  1.,  1.,  1.])"
            ]
          },
          "metadata": {
            "tags": []
          },
          "execution_count": 8
        }
      ]
    },
    {
      "cell_type": "code",
      "metadata": {
        "id": "0hv8seeeKBi9",
        "colab_type": "code",
        "colab": {
          "base_uri": "https://localhost:8080/",
          "height": 121
        },
        "outputId": "d5ada5a7-a1ee-4786-c4fc-a02f2724d09b"
      },
      "source": [
        "#cross checking\n",
        "\n",
        "from qiskit.aqua.algorithms import NumPyEigensolver\n",
        "from qiskit.aqua.operators import WeightedPauliOperator\n",
        "\n",
        "H = WeightedPauliOperator(h)\n",
        "print(H.print_details())\n",
        "\n",
        "ee = NumPyEigensolver(H)\n",
        "\n",
        "result = ee.run()\n",
        "ref = result['eigenvalues']\n",
        "print(ref)"
      ],
      "execution_count": 9,
      "outputs": [
        {
          "output_type": "stream",
          "text": [
            "II\t(0.5+0j)\n",
            "XX\t(-0.5+0j)\n",
            "YY\t(-0.5+0j)\n",
            "ZZ\t(0.5+0j)\n",
            "\n",
            "[-1.-2.76098236e-17j]\n"
          ],
          "name": "stdout"
        }
      ]
    },
    {
      "cell_type": "code",
      "metadata": {
        "id": "fpkMRHI1Z3it",
        "colab_type": "code",
        "colab": {
          "base_uri": "https://localhost:8080/",
          "height": 93
        },
        "outputId": "b2df3151-83de-4217-800e-9f3febf13936"
      },
      "source": [
        "def ansatz_circuit(angle):\n",
        "\n",
        "  my_ansatz = QuantumCircuit(2)\n",
        "\n",
        "  my_ansatz.h(0)\n",
        "  my_ansatz.h(1)\n",
        "  my_ansatz.rx(angle, 0)\n",
        "  my_ansatz.rx(angle, 1)\n",
        "  my_ansatz.cx(0,1)\n",
        "\n",
        "  return my_ansatz\n",
        "    \n",
        "g_circuit = ansatz_circuit(np.pi)\n",
        "g_circuit.draw()"
      ],
      "execution_count": 102,
      "outputs": [
        {
          "output_type": "execute_result",
          "data": {
            "text/html": [
              "<pre style=\"word-wrap: normal;white-space: pre;background: #fff0;line-height: 1.1;font-family: &quot;Courier New&quot;,Courier,monospace\">     ┌───┐┌────────┐     \n",
              "q_0: ┤ H ├┤ RX(pi) ├──■──\n",
              "     ├───┤├────────┤┌─┴─┐\n",
              "q_1: ┤ H ├┤ RX(pi) ├┤ X ├\n",
              "     └───┘└────────┘└───┘</pre>"
            ],
            "text/plain": [
              "     ┌───┐┌────────┐     \n",
              "q_0: ┤ H ├┤ RX(pi) ├──■──\n",
              "     ├───┤├────────┤┌─┴─┐\n",
              "q_1: ┤ H ├┤ RX(pi) ├┤ X ├\n",
              "     └───┘└────────┘└───┘"
            ]
          },
          "metadata": {
            "tags": []
          },
          "execution_count": 102
        }
      ]
    },
    {
      "cell_type": "code",
      "metadata": {
        "id": "b_e83rD15i0W",
        "colab_type": "code",
        "colab": {
          "base_uri": "https://localhost:8080/",
          "height": 124
        },
        "outputId": "e51dd90a-c8cd-492a-f714-c57be8d74ba9"
      },
      "source": [
        "zz_meas = measure_zz_circuit(g_circuit)\n",
        "zz_meas.draw()"
      ],
      "execution_count": 105,
      "outputs": [
        {
          "output_type": "execute_result",
          "data": {
            "text/html": [
              "<pre style=\"word-wrap: normal;white-space: pre;background: #fff0;line-height: 1.1;font-family: &quot;Courier New&quot;,Courier,monospace\">        ┌───┐┌────────┐      ░ ┌─┐   \n",
              "   q_0: ┤ H ├┤ RX(pi) ├──■───░─┤M├───\n",
              "        ├───┤├────────┤┌─┴─┐ ░ └╥┘┌─┐\n",
              "   q_1: ┤ H ├┤ RX(pi) ├┤ X ├─░──╫─┤M├\n",
              "        └───┘└────────┘└───┘ ░  ║ └╥┘\n",
              "meas: 2/════════════════════════╩══╩═\n",
              "                                0  1 </pre>"
            ],
            "text/plain": [
              "        ┌───┐┌────────┐      ░ ┌─┐   \n",
              "   q_0: ┤ H ├┤ RX(pi) ├──■───░─┤M├───\n",
              "        ├───┤├────────┤┌─┴─┐ ░ └╥┘┌─┐\n",
              "   q_1: ┤ H ├┤ RX(pi) ├┤ X ├─░──╫─┤M├\n",
              "        └───┘└────────┘└───┘ ░  ║ └╥┘\n",
              "meas: 2/════════════════════════╩══╩═\n",
              "                                0  1 "
            ]
          },
          "metadata": {
            "tags": []
          },
          "execution_count": 105
        }
      ]
    },
    {
      "cell_type": "code",
      "metadata": {
        "id": "SfN1_RFt6B0D",
        "colab_type": "code",
        "colab": {
          "base_uri": "https://localhost:8080/",
          "height": 331
        },
        "outputId": "76ea0d7c-c6d5-4d17-8533-644a803f7dbb"
      },
      "source": [
        "g_result = execute(zz_meas, backend = backend_q, shots=10000).result()\n",
        "g_counts = g_result.get_counts(zz_meas)\n",
        "\n",
        "plot_histogram(g_counts)"
      ],
      "execution_count": 107,
      "outputs": [
        {
          "output_type": "execute_result",
          "data": {
            "image/png": "[encoded data removed]",
            "text/plain": [
              "<Figure size 504x360 with 1 Axes>"
            ]
          },
          "metadata": {
            "tags": []
          },
          "execution_count": 107
        }
      ]
    },
    {
      "cell_type": "code",
      "metadata": {
        "id": "Otjo6J-T6Vob",
        "colab_type": "code",
        "colab": {}
      },
      "source": [
        "def measure_zz(given_circuit, num_shots = 10000):\n",
        "\n",
        "    zz_meas = measure_zz_circuit(given_circuit)\n",
        "    \n",
        "    result = execute(zz_meas, backend = backend_q, shots = num_shots).result()\n",
        "    counts = result.get_counts(zz_meas)\n",
        "\n",
        "    if '00' not in counts:\n",
        "        counts['00'] = 0\n",
        "    if '01' not in counts:\n",
        "        counts['01'] = 0\n",
        "    if '10' not in counts:\n",
        "        counts['10'] = 0\n",
        "    if '11' not in counts:\n",
        "        counts['11'] = 0 \n",
        "\n",
        "    total_counts = counts['00'] + counts['11'] + counts['01'] + counts['10']\n",
        "    zz = counts['00'] + counts['11'] - counts['01'] - counts['10']\n",
        "    zz = zz / total_counts\n",
        "    \n",
        "    return zz"
      ],
      "execution_count": 108,
      "outputs": []
    },
    {
      "cell_type": "code",
      "metadata": {
        "id": "cdNTnLn06fLe",
        "colab_type": "code",
        "colab": {
          "base_uri": "https://localhost:8080/",
          "height": 34
        },
        "outputId": "86b87540-5d9e-495f-9ad4-1ce8c8326b9e"
      },
      "source": [
        "zz = measure_zz(g_circuit)\n",
        "print(\"<ZZ> =\", str(zz))"
      ],
      "execution_count": 109,
      "outputs": [
        {
          "output_type": "stream",
          "text": [
            "<ZZ> = 0.0198\n"
          ],
          "name": "stdout"
        }
      ]
    },
    {
      "cell_type": "code",
      "metadata": {
        "id": "t8KPuY2Q67IL",
        "colab_type": "code",
        "colab": {}
      },
      "source": [
        "def measure_xx_circuit(given_circuit):\n",
        "    xx_meas = given_circuit.copy()\n",
        "    \n",
        "    xx_meas.h(0)\n",
        "    xx_meas.h(1)\n",
        "    xx_meas.measure_all()\n",
        "\n",
        "    return xx_meas"
      ],
      "execution_count": 110,
      "outputs": []
    },
    {
      "cell_type": "code",
      "metadata": {
        "id": "Cp2YfLYQ7Fcm",
        "colab_type": "code",
        "colab": {
          "base_uri": "https://localhost:8080/",
          "height": 124
        },
        "outputId": "4636a219-042d-4685-e4e4-f9c42ccaf6a4"
      },
      "source": [
        "xx_meas = measure_xx_circuit(g_circuit)\n",
        "xx_meas.draw()"
      ],
      "execution_count": 111,
      "outputs": [
        {
          "output_type": "execute_result",
          "data": {
            "text/html": [
              "<pre style=\"word-wrap: normal;white-space: pre;background: #fff0;line-height: 1.1;font-family: &quot;Courier New&quot;,Courier,monospace\">        ┌───┐┌────────┐     ┌───┐ ░ ┌─┐   \n",
              "   q_0: ┤ H ├┤ RX(pi) ├──■──┤ H ├─░─┤M├───\n",
              "        ├───┤├────────┤┌─┴─┐├───┤ ░ └╥┘┌─┐\n",
              "   q_1: ┤ H ├┤ RX(pi) ├┤ X ├┤ H ├─░──╫─┤M├\n",
              "        └───┘└────────┘└───┘└───┘ ░  ║ └╥┘\n",
              "meas: 2/═════════════════════════════╩══╩═\n",
              "                                     0  1 </pre>"
            ],
            "text/plain": [
              "        ┌───┐┌────────┐     ┌───┐ ░ ┌─┐   \n",
              "   q_0: ┤ H ├┤ RX(pi) ├──■──┤ H ├─░─┤M├───\n",
              "        ├───┤├────────┤┌─┴─┐├───┤ ░ └╥┘┌─┐\n",
              "   q_1: ┤ H ├┤ RX(pi) ├┤ X ├┤ H ├─░──╫─┤M├\n",
              "        └───┘└────────┘└───┘└───┘ ░  ║ └╥┘\n",
              "meas: 2/═════════════════════════════╩══╩═\n",
              "                                     0  1 "
            ]
          },
          "metadata": {
            "tags": []
          },
          "execution_count": 111
        }
      ]
    },
    {
      "cell_type": "code",
      "metadata": {
        "id": "7Lp8W4iX7ODr",
        "colab_type": "code",
        "colab": {
          "base_uri": "https://localhost:8080/",
          "height": 34
        },
        "outputId": "3593d41c-0fdd-4784-d6c2-717f221f3d6a"
      },
      "source": [
        "def measure_xx(given_circuit, num_shots = 10000):\n",
        "    \n",
        "    xx_meas = measure_xx_circuit(given_circuit)\n",
        "    \n",
        "    result = execute(xx_meas, backend = backend_q, shots = num_shots).result()\n",
        "    counts = result.get_counts(xx_meas)\n",
        "\n",
        "    if '00' not in counts:\n",
        "        counts['00'] = 0\n",
        "    if '01' not in counts:\n",
        "        counts['01'] = 0\n",
        "    if '10' not in counts:\n",
        "        counts['10'] = 0\n",
        "    if '11' not in counts:\n",
        "        counts['11'] = 0\n",
        "\n",
        "    total_counts = counts['00'] + counts['11'] + counts['01'] + counts['10']\n",
        "    xx = counts['00'] + counts['11'] - counts['01'] - counts['10']\n",
        "    xx = xx / total_counts\n",
        "    \n",
        "    return xx\n",
        "\n",
        "xx = measure_xx(g_circuit)\n",
        "print(\"<XX> =\", str(xx))"
      ],
      "execution_count": 113,
      "outputs": [
        {
          "output_type": "stream",
          "text": [
            "<XX> = 1.0\n"
          ],
          "name": "stdout"
        }
      ]
    },
    {
      "cell_type": "code",
      "metadata": {
        "id": "5mboPWLe7hpL",
        "colab_type": "code",
        "colab": {}
      },
      "source": [
        "def measure_yy_circuit(given_circuit):\n",
        "    yy_meas = given_circuit.copy()\n",
        "    \n",
        "    yy_meas.h(0)\n",
        "    yy_meas.h(1)\n",
        "    yy_meas.s(0)\n",
        "    yy_meas.s(1)\n",
        "    \n",
        "    yy_meas.measure_all()\n",
        "\n",
        "    return yy_meas"
      ],
      "execution_count": 115,
      "outputs": []
    },
    {
      "cell_type": "code",
      "metadata": {
        "id": "lELKNrfX8IWX",
        "colab_type": "code",
        "colab": {
          "base_uri": "https://localhost:8080/",
          "height": 124
        },
        "outputId": "e0e2c6a9-5217-4d58-eedd-7abf16e0e2a3"
      },
      "source": [
        "yy_meas = measure_yy_circuit(g_circuit)\n",
        "yy_meas.draw()"
      ],
      "execution_count": 116,
      "outputs": [
        {
          "output_type": "execute_result",
          "data": {
            "text/html": [
              "<pre style=\"word-wrap: normal;white-space: pre;background: #fff0;line-height: 1.1;font-family: &quot;Courier New&quot;,Courier,monospace\">        ┌───┐┌────────┐     ┌───┐┌───┐ ░ ┌─┐   \n",
              "   q_0: ┤ H ├┤ RX(pi) ├──■──┤ H ├┤ S ├─░─┤M├───\n",
              "        ├───┤├────────┤┌─┴─┐├───┤├───┤ ░ └╥┘┌─┐\n",
              "   q_1: ┤ H ├┤ RX(pi) ├┤ X ├┤ H ├┤ S ├─░──╫─┤M├\n",
              "        └───┘└────────┘└───┘└───┘└───┘ ░  ║ └╥┘\n",
              "meas: 2/══════════════════════════════════╩══╩═\n",
              "                                          0  1 </pre>"
            ],
            "text/plain": [
              "        ┌───┐┌────────┐     ┌───┐┌───┐ ░ ┌─┐   \n",
              "   q_0: ┤ H ├┤ RX(pi) ├──■──┤ H ├┤ S ├─░─┤M├───\n",
              "        ├───┤├────────┤┌─┴─┐├───┤├───┤ ░ └╥┘┌─┐\n",
              "   q_1: ┤ H ├┤ RX(pi) ├┤ X ├┤ H ├┤ S ├─░──╫─┤M├\n",
              "        └───┘└────────┘└───┘└───┘└───┘ ░  ║ └╥┘\n",
              "meas: 2/══════════════════════════════════╩══╩═\n",
              "                                          0  1 "
            ]
          },
          "metadata": {
            "tags": []
          },
          "execution_count": 116
        }
      ]
    },
    {
      "cell_type": "code",
      "metadata": {
        "id": "dJh5v8078VYr",
        "colab_type": "code",
        "colab": {
          "base_uri": "https://localhost:8080/",
          "height": 34
        },
        "outputId": "d1f63c98-bfd6-468a-bcd3-947a5c2a0f3a"
      },
      "source": [
        "def measure_yy(given_circuit, num_shots = 10000):\n",
        "    \n",
        "    yy_meas = measure_yy_circuit(given_circuit)\n",
        "    \n",
        "    result = execute(yy_meas, backend = backend_q, shots = num_shots).result()\n",
        "    counts = result.get_counts(yy_meas)\n",
        "\n",
        "    if '00' not in counts:\n",
        "        counts['00'] = 0\n",
        "    if '01' not in counts:\n",
        "        counts['01'] = 0\n",
        "    if '10' not in counts:\n",
        "        counts['10'] = 0\n",
        "    if '11' not in counts:\n",
        "        counts['11'] = 0\n",
        "\n",
        "    total_counts = counts['00'] + counts['11'] + counts['01'] + counts['10']\n",
        "    yy = counts['00'] + counts['11'] - counts['01'] - counts['10']\n",
        "    \n",
        "    yy = yy / total_counts\n",
        "    \n",
        "    return yy\n",
        "\n",
        "yy = measure_yy(g_circuit)\n",
        "print(\"<YY> =\", str(yy))"
      ],
      "execution_count": 134,
      "outputs": [
        {
          "output_type": "stream",
          "text": [
            "<YY> = 1.0\n"
          ],
          "name": "stdout"
        }
      ]
    },
    {
      "cell_type": "code",
      "metadata": {
        "id": "ycl7A3Ng92mr",
        "colab_type": "code",
        "colab": {}
      },
      "source": [
        "def get_energy(given_circuit, num_shots = 10000):\n",
        "    \n",
        "    zz = measure_zz(given_circuit, num_shots = num_shots)\n",
        "    xx = measure_xx(given_circuit, num_shots = num_shots)\n",
        "    yy = measure_yy(given_circuit, num_shots = num_shots)\n",
        "    \n",
        "    energy = (0.5)*1 + (-0.5)*xx + (-0.5)*yy + (0.5)*zz\n",
        "    \n",
        "    return energy"
      ],
      "execution_count": 135,
      "outputs": []
    },
    {
      "cell_type": "code",
      "metadata": {
        "id": "uiwrSCNF-o4k",
        "colab_type": "code",
        "colab": {
          "base_uri": "https://localhost:8080/",
          "height": 34
        },
        "outputId": "5c9590b6-bd63-4c96-d3ac-cfbcdaa54dbe"
      },
      "source": [
        "energy = get_energy(g_circuit)\n",
        "print(\"The energy of the trial state is\", str(energy))"
      ],
      "execution_count": 136,
      "outputs": [
        {
          "output_type": "stream",
          "text": [
            "The energy of the trial state is -0.4939\n"
          ],
          "name": "stdout"
        }
      ]
    }
  ]
}