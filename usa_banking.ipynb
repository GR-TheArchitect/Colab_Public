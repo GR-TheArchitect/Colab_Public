{
  "nbformat": 4,
  "nbformat_minor": 0,
  "metadata": {
    "colab": {
      "name": "usa_banking.ipynb",
      "provenance": [],
      "collapsed_sections": [],
      "authorship_tag": "ABX9TyMoCITy2TVSR54ovzAh6Q6w",
      "include_colab_link": true
    },
    "kernelspec": {
      "name": "python3",
      "display_name": "Python 3"
    }
  },
  "cells": [
    {
      "cell_type": "markdown",
      "metadata": {
        "id": "view-in-github",
        "colab_type": "text"
      },
      "source": [
        "<a href=\"https://colab.research.google.com/github/GR-TheArchitect/Colab_Public/blob/master/usa_banking.ipynb\" target=\"_parent\"><img src=\"https://colab.research.google.com/assets/colab-badge.svg\" alt=\"Open In Colab\"/></a>"
      ]
    },
    {
      "cell_type": "code",
      "metadata": {
        "id": "cAc5XOkjX-lj",
        "colab_type": "code",
        "colab": {}
      },
      "source": [
        "import numpy as np #python lib for numerical functions\n",
        "import matplotlib #for plotting graphs\n",
        "import matplotlib.pyplot as plt\n",
        "from matplotlib import style #to use different styles while plotting\n",
        "import pandas as pd #to use data frames\n",
        "\n",
        "import tensorflow as tf\n",
        "from tensorflow import keras\n",
        "from tensorflow.keras import layers\n",
        "\n",
        "import sklearn #python lib for linear regression and other models\n",
        "from sklearn import linear_model\n",
        "from sklearn import tree\n",
        "from sklearn import ensemble\n",
        "from sklearn.linear_model import LinearRegression\n",
        "from sklearn.tree import DecisionTreeRegressor\n",
        "from sklearn.ensemble import RandomForestRegressor "
      ],
      "execution_count": 0,
      "outputs": []
    },
    {
      "cell_type": "code",
      "metadata": {
        "id": "gnZxWVIEYWry",
        "colab_type": "code",
        "colab": {}
      },
      "source": [
        "import os\n",
        "\n",
        "DOWNLOAD_ROOT = \"https://raw.githubusercontent.com/GR-TheArchitect/Colab_Public/master/\"\n",
        "CDS_PATH = os.path.join(\"datasets\", \"cdsinfo\")\n",
        "CDS_URL = DOWNLOAD_ROOT + \"datasets/ist/\"\n"
      ],
      "execution_count": 0,
      "outputs": []
    },
    {
      "cell_type": "code",
      "metadata": {
        "id": "q4Jga4xWY0R2",
        "colab_type": "code",
        "colab": {}
      },
      "source": [
        "def load_cds_data(cds_path=CDS_URL):\n",
        "    csv_path = os.path.join(cds_path, \"USA_Banking_Industry.csv\")\n",
        "    return pd.read_csv(csv_path)"
      ],
      "execution_count": 0,
      "outputs": []
    },
    {
      "cell_type": "code",
      "metadata": {
        "id": "mL_11-TuZBKy",
        "colab_type": "code",
        "outputId": "1fdd8f80-bcea-40bc-8460-a8b31a35a1b2",
        "colab": {
          "base_uri": "https://localhost:8080/",
          "height": 278
        }
      },
      "source": [
        "cdsinfo = load_cds_data()\n",
        "cdsinfo.head()"
      ],
      "execution_count": 4,
      "outputs": [
        {
          "output_type": "execute_result",
          "data": {
            "text/html": [
              "<div>\n",
              "<style scoped>\n",
              "    .dataframe tbody tr th:only-of-type {\n",
              "        vertical-align: middle;\n",
              "    }\n",
              "\n",
              "    .dataframe tbody tr th {\n",
              "        vertical-align: top;\n",
              "    }\n",
              "\n",
              "    .dataframe thead th {\n",
              "        text-align: right;\n",
              "    }\n",
              "</style>\n",
              "<table border=\"1\" class=\"dataframe\">\n",
              "  <thead>\n",
              "    <tr style=\"text-align: right;\">\n",
              "      <th></th>\n",
              "      <th>Date</th>\n",
              "      <th>GS Expected Loss</th>\n",
              "      <th>GS Share Price</th>\n",
              "      <th>GS 6M-Implied Volatility</th>\n",
              "      <th>GS Market-Implied 1-Yr PD</th>\n",
              "      <th>GS Option-Implied DtD</th>\n",
              "      <th>WFC Expected Loss</th>\n",
              "      <th>WFC Share Price</th>\n",
              "      <th>WFC 6M-Implied Volatility</th>\n",
              "      <th>WFC Market-Implied 1-Yr PD</th>\n",
              "      <th>WFC Option-Implied DtD</th>\n",
              "      <th>VIX Index</th>\n",
              "      <th>SPX Level</th>\n",
              "      <th>Ln SPX Level</th>\n",
              "      <th>History Line</th>\n",
              "      <th>MS Expected Loss</th>\n",
              "      <th>MS Share Price</th>\n",
              "      <th>MS 6M-Implied Volatility</th>\n",
              "      <th>MS Market-Implied 1-Yr PD</th>\n",
              "      <th>MS Option-Implied DtD</th>\n",
              "      <th>JPM Expected Loss</th>\n",
              "      <th>JPM Share Price</th>\n",
              "      <th>JPM 6M-Implied Volatility</th>\n",
              "      <th>JPM Market-Implied 1-Yr PD</th>\n",
              "      <th>JPM Option-Implied DtD</th>\n",
              "      <th>BAC Expected Loss</th>\n",
              "      <th>BAC Share Price</th>\n",
              "      <th>BAC 6M-Implied Volatility</th>\n",
              "      <th>BAC Market-Implied 1-Yr PD</th>\n",
              "      <th>BAC Option-Implied DtD</th>\n",
              "    </tr>\n",
              "  </thead>\n",
              "  <tbody>\n",
              "    <tr>\n",
              "      <th>0</th>\n",
              "      <td>1/3/2007</td>\n",
              "      <td>0.040212</td>\n",
              "      <td>200.72</td>\n",
              "      <td>0.26798</td>\n",
              "      <td>0.016769</td>\n",
              "      <td>4.508364</td>\n",
              "      <td>0.000104</td>\n",
              "      <td>35.74</td>\n",
              "      <td>0.16209</td>\n",
              "      <td>0.000041</td>\n",
              "      <td>9.327541</td>\n",
              "      <td>0.1204</td>\n",
              "      <td>1416.60</td>\n",
              "      <td>7.256015</td>\n",
              "      <td>1</td>\n",
              "      <td>0.066902</td>\n",
              "      <td>67.7540</td>\n",
              "      <td>0.26208</td>\n",
              "      <td>0.029041</td>\n",
              "      <td>4.287960</td>\n",
              "      <td>0.007936</td>\n",
              "      <td>48.07</td>\n",
              "      <td>0.18704</td>\n",
              "      <td>0.003200</td>\n",
              "      <td>6.585238</td>\n",
              "      <td>0.001020</td>\n",
              "      <td>53.33</td>\n",
              "      <td>0.15613</td>\n",
              "      <td>0.000408</td>\n",
              "      <td>8.366166</td>\n",
              "    </tr>\n",
              "    <tr>\n",
              "      <th>1</th>\n",
              "      <td>1/4/2007</td>\n",
              "      <td>0.042017</td>\n",
              "      <td>198.85</td>\n",
              "      <td>0.27095</td>\n",
              "      <td>0.017556</td>\n",
              "      <td>4.452859</td>\n",
              "      <td>0.000102</td>\n",
              "      <td>35.80</td>\n",
              "      <td>0.16206</td>\n",
              "      <td>0.000041</td>\n",
              "      <td>9.333197</td>\n",
              "      <td>0.1151</td>\n",
              "      <td>1418.34</td>\n",
              "      <td>7.257242</td>\n",
              "      <td>2</td>\n",
              "      <td>0.066669</td>\n",
              "      <td>67.9947</td>\n",
              "      <td>0.26208</td>\n",
              "      <td>0.028925</td>\n",
              "      <td>4.289491</td>\n",
              "      <td>0.007691</td>\n",
              "      <td>48.19</td>\n",
              "      <td>0.18604</td>\n",
              "      <td>0.003100</td>\n",
              "      <td>6.623327</td>\n",
              "      <td>0.000960</td>\n",
              "      <td>53.67</td>\n",
              "      <td>0.15535</td>\n",
              "      <td>0.000384</td>\n",
              "      <td>8.418403</td>\n",
              "    </tr>\n",
              "    <tr>\n",
              "      <th>2</th>\n",
              "      <td>1/5/2007</td>\n",
              "      <td>0.041767</td>\n",
              "      <td>199.05</td>\n",
              "      <td>0.27052</td>\n",
              "      <td>0.017447</td>\n",
              "      <td>4.460590</td>\n",
              "      <td>0.000103</td>\n",
              "      <td>35.60</td>\n",
              "      <td>0.16180</td>\n",
              "      <td>0.000041</td>\n",
              "      <td>9.335066</td>\n",
              "      <td>0.1214</td>\n",
              "      <td>1409.71</td>\n",
              "      <td>7.251139</td>\n",
              "      <td>3</td>\n",
              "      <td>0.067521</td>\n",
              "      <td>67.1231</td>\n",
              "      <td>0.26208</td>\n",
              "      <td>0.029348</td>\n",
              "      <td>4.283947</td>\n",
              "      <td>0.008661</td>\n",
              "      <td>47.79</td>\n",
              "      <td>0.18999</td>\n",
              "      <td>0.003495</td>\n",
              "      <td>6.476832</td>\n",
              "      <td>0.001069</td>\n",
              "      <td>53.24</td>\n",
              "      <td>0.15698</td>\n",
              "      <td>0.000428</td>\n",
              "      <td>8.318182</td>\n",
              "    </tr>\n",
              "    <tr>\n",
              "      <th>3</th>\n",
              "      <td>1/8/2007</td>\n",
              "      <td>0.039047</td>\n",
              "      <td>203.73</td>\n",
              "      <td>0.26671</td>\n",
              "      <td>0.016263</td>\n",
              "      <td>4.539759</td>\n",
              "      <td>0.000119</td>\n",
              "      <td>35.50</td>\n",
              "      <td>0.16347</td>\n",
              "      <td>0.000047</td>\n",
              "      <td>9.233190</td>\n",
              "      <td>0.1200</td>\n",
              "      <td>1412.84</td>\n",
              "      <td>7.253357</td>\n",
              "      <td>4</td>\n",
              "      <td>0.067121</td>\n",
              "      <td>67.5299</td>\n",
              "      <td>0.26208</td>\n",
              "      <td>0.029149</td>\n",
              "      <td>4.286535</td>\n",
              "      <td>0.007988</td>\n",
              "      <td>47.95</td>\n",
              "      <td>0.18707</td>\n",
              "      <td>0.003221</td>\n",
              "      <td>6.581504</td>\n",
              "      <td>0.001140</td>\n",
              "      <td>53.45</td>\n",
              "      <td>0.15863</td>\n",
              "      <td>0.000457</td>\n",
              "      <td>8.237854</td>\n",
              "    </tr>\n",
              "    <tr>\n",
              "      <th>4</th>\n",
              "      <td>1/9/2007</td>\n",
              "      <td>0.039557</td>\n",
              "      <td>204.08</td>\n",
              "      <td>0.26790</td>\n",
              "      <td>0.016484</td>\n",
              "      <td>4.520741</td>\n",
              "      <td>0.000103</td>\n",
              "      <td>35.59</td>\n",
              "      <td>0.16173</td>\n",
              "      <td>0.000041</td>\n",
              "      <td>9.338449</td>\n",
              "      <td>0.1191</td>\n",
              "      <td>1412.11</td>\n",
              "      <td>7.252840</td>\n",
              "      <td>5</td>\n",
              "      <td>0.067275</td>\n",
              "      <td>67.3721</td>\n",
              "      <td>0.26208</td>\n",
              "      <td>0.029226</td>\n",
              "      <td>4.285532</td>\n",
              "      <td>0.007353</td>\n",
              "      <td>47.75</td>\n",
              "      <td>0.18349</td>\n",
              "      <td>0.002963</td>\n",
              "      <td>6.705358</td>\n",
              "      <td>0.001050</td>\n",
              "      <td>53.50</td>\n",
              "      <td>0.15696</td>\n",
              "      <td>0.000420</td>\n",
              "      <td>8.326992</td>\n",
              "    </tr>\n",
              "  </tbody>\n",
              "</table>\n",
              "</div>"
            ],
            "text/plain": [
              "       Date  ...  BAC Option-Implied DtD\n",
              "0  1/3/2007  ...                8.366166\n",
              "1  1/4/2007  ...                8.418403\n",
              "2  1/5/2007  ...                8.318182\n",
              "3  1/8/2007  ...                8.237854\n",
              "4  1/9/2007  ...                8.326992\n",
              "\n",
              "[5 rows x 30 columns]"
            ]
          },
          "metadata": {
            "tags": []
          },
          "execution_count": 4
        }
      ]
    },
    {
      "cell_type": "code",
      "metadata": {
        "id": "-NBtsJVtZ0Z0",
        "colab_type": "code",
        "outputId": "71e347d7-4603-44eb-d1ec-e15764f084a5",
        "colab": {
          "base_uri": "https://localhost:8080/",
          "height": 658
        }
      },
      "source": [
        "cdsinfo.info()"
      ],
      "execution_count": 5,
      "outputs": [
        {
          "output_type": "stream",
          "text": [
            "<class 'pandas.core.frame.DataFrame'>\n",
            "RangeIndex: 3349 entries, 0 to 3348\n",
            "Data columns (total 30 columns):\n",
            " #   Column                      Non-Null Count  Dtype  \n",
            "---  ------                      --------------  -----  \n",
            " 0   Date                        3349 non-null   object \n",
            " 1   GS Expected Loss            3349 non-null   float64\n",
            " 2   GS Share Price              3349 non-null   float64\n",
            " 3   GS 6M-Implied Volatility    3349 non-null   float64\n",
            " 4   GS Market-Implied 1-Yr PD   3349 non-null   float64\n",
            " 5   GS Option-Implied DtD       3349 non-null   float64\n",
            " 6   WFC Expected Loss           3349 non-null   float64\n",
            " 7   WFC Share Price             3349 non-null   float64\n",
            " 8   WFC 6M-Implied Volatility   3349 non-null   float64\n",
            " 9   WFC Market-Implied 1-Yr PD  3349 non-null   float64\n",
            " 10  WFC Option-Implied DtD      3349 non-null   float64\n",
            " 11  VIX Index                   3349 non-null   float64\n",
            " 12  SPX Level                   3349 non-null   float64\n",
            " 13  Ln SPX Level                3349 non-null   float64\n",
            " 14  History Line                3349 non-null   int64  \n",
            " 15  MS Expected Loss            3349 non-null   float64\n",
            " 16  MS Share Price              3349 non-null   float64\n",
            " 17  MS 6M-Implied Volatility    3349 non-null   float64\n",
            " 18  MS Market-Implied 1-Yr PD   3349 non-null   float64\n",
            " 19  MS Option-Implied DtD       3349 non-null   float64\n",
            " 20  JPM Expected Loss           3349 non-null   float64\n",
            " 21  JPM Share Price             3349 non-null   float64\n",
            " 22  JPM 6M-Implied Volatility   3349 non-null   float64\n",
            " 23  JPM Market-Implied 1-Yr PD  3349 non-null   float64\n",
            " 24  JPM Option-Implied DtD      3349 non-null   float64\n",
            " 25  BAC Expected Loss           3349 non-null   float64\n",
            " 26  BAC Share Price             3349 non-null   float64\n",
            " 27  BAC 6M-Implied Volatility   3349 non-null   float64\n",
            " 28  BAC Market-Implied 1-Yr PD  3349 non-null   float64\n",
            " 29  BAC Option-Implied DtD      3349 non-null   float64\n",
            "dtypes: float64(28), int64(1), object(1)\n",
            "memory usage: 785.0+ KB\n"
          ],
          "name": "stdout"
        }
      ]
    },
    {
      "cell_type": "code",
      "metadata": {
        "id": "g8yrY_A0Z7vI",
        "colab_type": "code",
        "colab": {}
      },
      "source": [
        "cdsinfo.hist(bins=50, figsize=(20,15))\n",
        "plt.show()"
      ],
      "execution_count": 0,
      "outputs": []
    },
    {
      "cell_type": "code",
      "metadata": {
        "id": "K4Nf_w9DaLTU",
        "colab_type": "code",
        "colab": {}
      },
      "source": [
        "cdsinfo.plot(kind=\"scatter\", x=\"Ln SPX Level\", y=\"GS Expected Loss\")"
      ],
      "execution_count": 0,
      "outputs": []
    },
    {
      "cell_type": "code",
      "metadata": {
        "id": "XiQCpHVTaUso",
        "colab_type": "code",
        "colab": {}
      },
      "source": [
        "cdsinfo.plot(kind=\"scatter\", x=\"Ln SPX Level\", y=\"WFC Expected Loss\", alpha=0.9,\n",
        "             figsize=(10, 7), c=\"VIX Index\", cmap=plt.get_cmap(\"jet\"), colorbar=True,)\n",
        "plt.show()"
      ],
      "execution_count": 0,
      "outputs": []
    },
    {
      "cell_type": "code",
      "metadata": {
        "id": "4nIEsiWQaomU",
        "colab_type": "code",
        "colab": {}
      },
      "source": [
        "cdsinfo.plot(kind=\"line\", x=\"Date\", y=\"GS Expected Loss\", figsize=(15, 10))"
      ],
      "execution_count": 0,
      "outputs": []
    },
    {
      "cell_type": "code",
      "metadata": {
        "id": "PAfhwCngb5K1",
        "colab_type": "code",
        "colab": {}
      },
      "source": [
        "cdsinfo.plot(kind=\"line\", x=\"Date\", y=\"GS Option-Implied DtD\", figsize=(15, 10))"
      ],
      "execution_count": 0,
      "outputs": []
    },
    {
      "cell_type": "code",
      "metadata": {
        "id": "fQOuhIQNaxSd",
        "colab_type": "code",
        "outputId": "d8e09fa7-509f-46fd-85e6-4e6010a1cab3",
        "colab": {
          "base_uri": "https://localhost:8080/",
          "height": 71
        }
      },
      "source": [
        "import seaborn as sns"
      ],
      "execution_count": 21,
      "outputs": [
        {
          "output_type": "stream",
          "text": [
            "/usr/local/lib/python3.6/dist-packages/statsmodels/tools/_testing.py:19: FutureWarning: pandas.util.testing is deprecated. Use the functions in the public API at pandas.testing instead.\n",
            "  import pandas.util.testing as tm\n"
          ],
          "name": "stderr"
        }
      ]
    },
    {
      "cell_type": "code",
      "metadata": {
        "id": "jfNoCRzia5gR",
        "colab_type": "code",
        "colab": {}
      },
      "source": [
        "sns.pairplot(cdsinfo[[\"JPM Expected Loss\",\n",
        "                      \"MS Expected Loss\", \"VIX Index\", \"Ln SPX Level\"]], diag_kind=\"kde\")"
      ],
      "execution_count": 0,
      "outputs": []
    },
    {
      "cell_type": "code",
      "metadata": {
        "id": "8Snn2wIgFEJ4",
        "colab_type": "code",
        "colab": {}
      },
      "source": [
        "import altair as alt"
      ],
      "execution_count": 0,
      "outputs": []
    },
    {
      "cell_type": "code",
      "metadata": {
        "id": "p0DyNMyaFue2",
        "colab_type": "code",
        "colab": {}
      },
      "source": [
        "dataset = cdsinfo.copy()"
      ],
      "execution_count": 0,
      "outputs": []
    },
    {
      "cell_type": "code",
      "metadata": {
        "id": "btZ2ejH5FPCp",
        "colab_type": "code",
        "colab": {}
      },
      "source": [
        "alt.Chart(dataset).mark_point(color='grey').encode(\n",
        "    x='JPM Option-Implied DtD',\n",
        "    y='JPM Expected Loss',\n",
        "    size='VIX Index',\n",
        "    tooltip=['JPM Option-Implied DtD', 'JPM Expected Loss']\n",
        ").properties(\n",
        "    width=700,\n",
        "    height=700,\n",
        ").interactive()"
      ],
      "execution_count": 0,
      "outputs": []
    },
    {
      "cell_type": "code",
      "metadata": {
        "id": "D2E2L4-WIceD",
        "colab_type": "code",
        "colab": {}
      },
      "source": [
        "alt.Chart(dataset).mark_circle().encode(\n",
        "    alt.X(alt.repeat(\"column\"), type='quantitative'),\n",
        "    alt.Y(alt.repeat(\"row\"), type='quantitative')\n",
        ").properties(\n",
        "    width=300,\n",
        "    height=300\n",
        ").repeat(\n",
        "    row=['BAC Market-Implied 1-Yr PD'],\n",
        "    column=['BAC Option-Implied DtD', 'BAC Share Price', 'BAC 6M-Implied Volatility']\n",
        ").interactive()"
      ],
      "execution_count": 0,
      "outputs": []
    },
    {
      "cell_type": "code",
      "metadata": {
        "id": "sbxLyNNgMjzV",
        "colab_type": "code",
        "colab": {}
      },
      "source": [
        "x = dataset['MS Share Price']\n",
        "y = dataset['MS Expected Loss']\n",
        "id_ = dataset['VIX Index']\n",
        "data = pd.DataFrame({\"x\": x, \"y\": y})"
      ],
      "execution_count": 0,
      "outputs": []
    },
    {
      "cell_type": "code",
      "metadata": {
        "id": "GR9nMwjIM9oM",
        "colab_type": "code",
        "colab": {}
      },
      "source": [
        "base = alt.Chart(data).mark_circle(color=\"black\").encode(\n",
        "        alt.X(\"x\"), alt.Y(\"y\"))\n",
        "\n",
        "Power_Law_fit = [base.transform_regression(\n",
        "        \"x\", \"y\", method=\"pow\")\n",
        "    .mark_line(color=\"red\")\n",
        "    .properties(width=500, height=500)\n",
        "    ]\n",
        "\n",
        "alt.layer(base, *Power_Law_fit)"
      ],
      "execution_count": 0,
      "outputs": []
    }
  ]
}