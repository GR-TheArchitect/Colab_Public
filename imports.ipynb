{
  "nbformat": 4,
  "nbformat_minor": 0,
  "metadata": {
    "kernelspec": {
      "display_name": "Python 3",
      "language": "python",
      "name": "python3"
    },
    "language_info": {
      "codemirror_mode": {
        "name": "ipython",
        "version": 3
      },
      "file_extension": ".py",
      "mimetype": "text/x-python",
      "name": "python",
      "nbconvert_exporter": "python",
      "pygments_lexer": "ipython3",
      "version": "3.6.6"
    },
    "colab": {
      "name": "imports.ipynb",
      "provenance": [],
      "include_colab_link": true
    }
  },
  "cells": [
    {
      "cell_type": "markdown",
      "metadata": {
        "id": "view-in-github",
        "colab_type": "text"
      },
      "source": [
        "<a href=\"https://colab.research.google.com/github/GR-TheArchitect/Colab_Public/blob/master/imports.ipynb\" target=\"_parent\"><img src=\"https://colab.research.google.com/assets/colab-badge.svg\" alt=\"Open In Colab\"/></a>"
      ]
    },
    {
      "cell_type": "code",
      "metadata": {
        "id": "iz3XpZXpPNOj",
        "colab_type": "code",
        "colab": {}
      },
      "source": [
        "import numpy as np #python lib for numerical functions\n",
        "import matplotlib #for plotting graphs\n",
        "import matplotlib.pyplot as plt\n",
        "from matplotlib import style #to use different styles while plotting\n",
        "import pandas as pd #to use data frames"
      ],
      "execution_count": 0,
      "outputs": []
    },
    {
      "cell_type": "code",
      "metadata": {
        "id": "ghKOxSBzPNOn",
        "colab_type": "code",
        "colab": {}
      },
      "source": [
        "import tensorflow as tf\n",
        "from tensorflow import keras"
      ],
      "execution_count": 0,
      "outputs": []
    },
    {
      "cell_type": "code",
      "metadata": {
        "id": "dlUxtYFDPNOq",
        "colab_type": "code",
        "colab": {}
      },
      "source": [
        "import sklearn #python lib for linear regression and other models"
      ],
      "execution_count": 0,
      "outputs": []
    },
    {
      "cell_type": "code",
      "metadata": {
        "id": "IZgs-eBUPNOs",
        "colab_type": "code",
        "colab": {}
      },
      "source": [
        "from sklearn import linear_model\n",
        "from sklearn import tree\n",
        "from sklearn import ensemble\n",
        "from sklearn.linear_model import LinearRegression\n",
        "from sklearn.tree import DecisionTreeRegressor\n",
        "from sklearn.ensemble import RandomForestRegressor\n",
        "from sklearn.model_selection import cross_val_score"
      ],
      "execution_count": 0,
      "outputs": []
    },
    {
      "cell_type": "code",
      "metadata": {
        "id": "Sdqubu0lPNOu",
        "colab_type": "code",
        "colab": {
          "base_uri": "https://localhost:8080/",
          "height": 34
        },
        "outputId": "ba403c3e-d317-4cab-ae8d-175e0f4bd58e"
      },
      "source": [
        "np.multiply(2,6)"
      ],
      "execution_count": 9,
      "outputs": [
        {
          "output_type": "execute_result",
          "data": {
            "text/plain": [
              "12"
            ]
          },
          "metadata": {
            "tags": []
          },
          "execution_count": 9
        }
      ]
    },
    {
      "cell_type": "code",
      "metadata": {
        "id": "q7Z_Xp6lPNOz",
        "colab_type": "code",
        "colab": {
          "base_uri": "https://localhost:8080/",
          "height": 34
        },
        "outputId": "87f6d28f-5e9f-4a82-8cd7-dc3db478f633"
      },
      "source": [
        "np.random.normal(size=5)"
      ],
      "execution_count": 10,
      "outputs": [
        {
          "output_type": "execute_result",
          "data": {
            "text/plain": [
              "array([ 0.70784314,  0.35114003,  1.07156375, -1.73931792, -0.24107439])"
            ]
          },
          "metadata": {
            "tags": []
          },
          "execution_count": 10
        }
      ]
    },
    {
      "cell_type": "code",
      "metadata": {
        "id": "psxYLuOqPNO1",
        "colab_type": "code",
        "colab": {}
      },
      "source": [
        "d = np.random.normal(size=100000000)"
      ],
      "execution_count": 0,
      "outputs": []
    },
    {
      "cell_type": "code",
      "metadata": {
        "id": "aesvusLAPNO3",
        "colab_type": "code",
        "colab": {
          "base_uri": "https://localhost:8080/",
          "height": 1000
        },
        "outputId": "85a2deb8-0610-465c-b91a-451fa82ce526"
      },
      "source": [
        "plt.hist(d, bins=1000)"
      ],
      "execution_count": 12,
      "outputs": [
        {
          "output_type": "execute_result",
          "data": {
            "text/plain": [
              "(array([1.00000e+00, 0.00000e+00, 0.00000e+00, 0.00000e+00, 0.00000e+00,\n",
              "        0.00000e+00, 0.00000e+00, 0.00000e+00, 0.00000e+00, 0.00000e+00,\n",
              "        0.00000e+00, 0.00000e+00, 0.00000e+00, 0.00000e+00, 0.00000e+00,\n",
              "        0.00000e+00, 1.00000e+00, 0.00000e+00, 0.00000e+00, 0.00000e+00,\n",
              "        0.00000e+00, 0.00000e+00, 0.00000e+00, 1.00000e+00, 0.00000e+00,\n",
              "        1.00000e+00, 0.00000e+00, 0.00000e+00, 0.00000e+00, 0.00000e+00,\n",
              "        0.00000e+00, 0.00000e+00, 1.00000e+00, 0.00000e+00, 0.00000e+00,\n",
              "        0.00000e+00, 2.00000e+00, 0.00000e+00, 0.00000e+00, 0.00000e+00,\n",
              "        0.00000e+00, 1.00000e+00, 1.00000e+00, 0.00000e+00, 0.00000e+00,\n",
              "        0.00000e+00, 0.00000e+00, 0.00000e+00, 0.00000e+00, 0.00000e+00,\n",
              "        2.00000e+00, 0.00000e+00, 0.00000e+00, 0.00000e+00, 0.00000e+00,\n",
              "        0.00000e+00, 1.00000e+00, 2.00000e+00, 1.00000e+00, 2.00000e+00,\n",
              "        0.00000e+00, 2.00000e+00, 1.00000e+00, 2.00000e+00, 1.00000e+00,\n",
              "        1.00000e+00, 1.00000e+00, 2.00000e+00, 3.00000e+00, 4.00000e+00,\n",
              "        0.00000e+00, 3.00000e+00, 3.00000e+00, 4.00000e+00, 4.00000e+00,\n",
              "        3.00000e+00, 3.00000e+00, 4.00000e+00, 3.00000e+00, 2.00000e+00,\n",
              "        2.00000e+00, 3.00000e+00, 5.00000e+00, 5.00000e+00, 5.00000e+00,\n",
              "        4.00000e+00, 6.00000e+00, 6.00000e+00, 1.10000e+01, 3.00000e+00,\n",
              "        3.00000e+00, 3.00000e+00, 1.00000e+01, 1.00000e+01, 1.00000e+01,\n",
              "        3.00000e+00, 1.00000e+01, 1.10000e+01, 1.10000e+01, 5.00000e+00,\n",
              "        7.00000e+00, 1.20000e+01, 1.50000e+01, 8.00000e+00, 8.00000e+00,\n",
              "        1.30000e+01, 1.20000e+01, 1.50000e+01, 1.90000e+01, 1.60000e+01,\n",
              "        1.30000e+01, 1.90000e+01, 2.40000e+01, 2.60000e+01, 2.60000e+01,\n",
              "        1.80000e+01, 2.50000e+01, 2.90000e+01, 2.40000e+01, 3.10000e+01,\n",
              "        2.80000e+01, 2.80000e+01, 2.40000e+01, 3.40000e+01, 4.30000e+01,\n",
              "        4.20000e+01, 4.30000e+01, 3.50000e+01, 4.70000e+01, 4.60000e+01,\n",
              "        4.10000e+01, 5.40000e+01, 5.00000e+01, 5.90000e+01, 5.10000e+01,\n",
              "        6.20000e+01, 8.50000e+01, 5.90000e+01, 7.00000e+01, 6.60000e+01,\n",
              "        8.80000e+01, 7.70000e+01, 8.20000e+01, 1.04000e+02, 8.60000e+01,\n",
              "        1.15000e+02, 1.10000e+02, 1.11000e+02, 1.21000e+02, 1.28000e+02,\n",
              "        1.08000e+02, 1.53000e+02, 1.40000e+02, 1.59000e+02, 1.50000e+02,\n",
              "        1.60000e+02, 1.64000e+02, 1.77000e+02, 1.67000e+02, 1.90000e+02,\n",
              "        1.95000e+02, 1.90000e+02, 2.21000e+02, 2.30000e+02, 2.34000e+02,\n",
              "        2.38000e+02, 2.56000e+02, 2.75000e+02, 3.01000e+02, 3.17000e+02,\n",
              "        3.29000e+02, 3.29000e+02, 3.48000e+02, 3.70000e+02, 4.01000e+02,\n",
              "        3.83000e+02, 3.95000e+02, 4.31000e+02, 4.55000e+02, 5.24000e+02,\n",
              "        5.19000e+02, 5.26000e+02, 5.13000e+02, 5.36000e+02, 5.81000e+02,\n",
              "        5.61000e+02, 6.46000e+02, 6.34000e+02, 6.59000e+02, 7.25000e+02,\n",
              "        7.30000e+02, 7.91000e+02, 8.16000e+02, 8.71000e+02, 8.59000e+02,\n",
              "        9.32000e+02, 9.19000e+02, 9.49000e+02, 9.94000e+02, 1.08300e+03,\n",
              "        1.12700e+03, 1.23300e+03, 1.20700e+03, 1.22900e+03, 1.35200e+03,\n",
              "        1.33500e+03, 1.42600e+03, 1.44300e+03, 1.47500e+03, 1.60000e+03,\n",
              "        1.65100e+03, 1.71100e+03, 1.79200e+03, 1.90600e+03, 1.99900e+03,\n",
              "        2.00900e+03, 2.15200e+03, 2.21000e+03, 2.24800e+03, 2.37900e+03,\n",
              "        2.40200e+03, 2.46700e+03, 2.60200e+03, 2.69400e+03, 2.78200e+03,\n",
              "        2.89200e+03, 2.95900e+03, 3.08200e+03, 3.31800e+03, 3.33100e+03,\n",
              "        3.48000e+03, 3.64000e+03, 3.73200e+03, 3.74900e+03, 4.06700e+03,\n",
              "        4.11000e+03, 4.35700e+03, 4.53000e+03, 4.77000e+03, 4.80000e+03,\n",
              "        5.04900e+03, 5.25000e+03, 5.32100e+03, 5.51100e+03, 5.67800e+03,\n",
              "        6.05900e+03, 6.15500e+03, 6.29900e+03, 6.44800e+03, 6.90600e+03,\n",
              "        7.03700e+03, 7.42100e+03, 7.51000e+03, 7.76000e+03, 8.07500e+03,\n",
              "        8.15700e+03, 8.63400e+03, 8.73400e+03, 9.22300e+03, 9.43800e+03,\n",
              "        9.86800e+03, 1.00850e+04, 1.04280e+04, 1.06250e+04, 1.10720e+04,\n",
              "        1.14240e+04, 1.18890e+04, 1.21330e+04, 1.26070e+04, 1.29250e+04,\n",
              "        1.35710e+04, 1.39110e+04, 1.43700e+04, 1.49080e+04, 1.51470e+04,\n",
              "        1.53820e+04, 1.60890e+04, 1.67440e+04, 1.71860e+04, 1.77570e+04,\n",
              "        1.79290e+04, 1.87850e+04, 1.90900e+04, 1.98260e+04, 2.02020e+04,\n",
              "        2.10560e+04, 2.15500e+04, 2.21230e+04, 2.27730e+04, 2.34480e+04,\n",
              "        2.40280e+04, 2.47890e+04, 2.55540e+04, 2.61400e+04, 2.71190e+04,\n",
              "        2.75250e+04, 2.83180e+04, 2.92800e+04, 2.99680e+04, 3.09310e+04,\n",
              "        3.17050e+04, 3.25220e+04, 3.35830e+04, 3.37990e+04, 3.50910e+04,\n",
              "        3.59260e+04, 3.72160e+04, 3.80410e+04, 3.90220e+04, 3.99600e+04,\n",
              "        4.08820e+04, 4.25230e+04, 4.32400e+04, 4.42510e+04, 4.52790e+04,\n",
              "        4.68580e+04, 4.75810e+04, 4.86830e+04, 5.02870e+04, 5.16150e+04,\n",
              "        5.25110e+04, 5.35910e+04, 5.50700e+04, 5.62600e+04, 5.79110e+04,\n",
              "        5.94070e+04, 6.06110e+04, 6.25560e+04, 6.36410e+04, 6.49940e+04,\n",
              "        6.66860e+04, 6.79470e+04, 6.94720e+04, 7.13060e+04, 7.27180e+04,\n",
              "        7.43620e+04, 7.61140e+04, 7.79950e+04, 7.96700e+04, 8.08560e+04,\n",
              "        8.31090e+04, 8.47020e+04, 8.68270e+04, 8.81530e+04, 9.05110e+04,\n",
              "        9.21750e+04, 9.43610e+04, 9.65980e+04, 9.80720e+04, 1.00264e+05,\n",
              "        1.02327e+05, 1.04023e+05, 1.06560e+05, 1.08756e+05, 1.10357e+05,\n",
              "        1.12994e+05, 1.14809e+05, 1.16378e+05, 1.19801e+05, 1.21947e+05,\n",
              "        1.24382e+05, 1.26531e+05, 1.28496e+05, 1.31088e+05, 1.33608e+05,\n",
              "        1.36152e+05, 1.38457e+05, 1.40011e+05, 1.43256e+05, 1.46135e+05,\n",
              "        1.48758e+05, 1.51152e+05, 1.53290e+05, 1.55866e+05, 1.59592e+05,\n",
              "        1.62894e+05, 1.64782e+05, 1.67241e+05, 1.69564e+05, 1.73153e+05,\n",
              "        1.75897e+05, 1.78369e+05, 1.80949e+05, 1.84484e+05, 1.86999e+05,\n",
              "        1.90207e+05, 1.93198e+05, 1.96732e+05, 1.98668e+05, 2.01892e+05,\n",
              "        2.04462e+05, 2.08038e+05, 2.10283e+05, 2.14971e+05, 2.17829e+05,\n",
              "        2.18891e+05, 2.23039e+05, 2.26100e+05, 2.29520e+05, 2.32541e+05,\n",
              "        2.36620e+05, 2.39096e+05, 2.41590e+05, 2.45246e+05, 2.49095e+05,\n",
              "        2.51202e+05, 2.54953e+05, 2.57789e+05, 2.61184e+05, 2.64264e+05,\n",
              "        2.68825e+05, 2.70616e+05, 2.73748e+05, 2.77586e+05, 2.80605e+05,\n",
              "        2.84989e+05, 2.86835e+05, 2.89783e+05, 2.93296e+05, 2.96833e+05,\n",
              "        3.00461e+05, 3.02636e+05, 3.06221e+05, 3.10645e+05, 3.13791e+05,\n",
              "        3.16492e+05, 3.19131e+05, 3.21989e+05, 3.25417e+05, 3.29393e+05,\n",
              "        3.31255e+05, 3.34671e+05, 3.37983e+05, 3.40993e+05, 3.43913e+05,\n",
              "        3.47440e+05, 3.50963e+05, 3.53271e+05, 3.55092e+05, 3.58519e+05,\n",
              "        3.61795e+05, 3.65947e+05, 3.67513e+05, 3.69971e+05, 3.73844e+05,\n",
              "        3.76480e+05, 3.79182e+05, 3.81398e+05, 3.84392e+05, 3.85692e+05,\n",
              "        3.89525e+05, 3.91714e+05, 3.95670e+05, 3.98138e+05, 4.00176e+05,\n",
              "        4.02841e+05, 4.03172e+05, 4.06908e+05, 4.07554e+05, 4.10683e+05,\n",
              "        4.12968e+05, 4.15906e+05, 4.18237e+05, 4.20385e+05, 4.22413e+05,\n",
              "        4.24304e+05, 4.25943e+05, 4.27909e+05, 4.29542e+05, 4.32161e+05,\n",
              "        4.34114e+05, 4.34530e+05, 4.35158e+05, 4.39400e+05, 4.40775e+05,\n",
              "        4.42645e+05, 4.44738e+05, 4.44815e+05, 4.46795e+05, 4.47721e+05,\n",
              "        4.48995e+05, 4.48972e+05, 4.51447e+05, 4.52891e+05, 4.52663e+05,\n",
              "        4.54157e+05, 4.54370e+05, 4.54795e+05, 4.56960e+05, 4.56135e+05,\n",
              "        4.57936e+05, 4.59790e+05, 4.59314e+05, 4.59270e+05, 4.60362e+05,\n",
              "        4.60893e+05, 4.60779e+05, 4.59961e+05, 4.60160e+05, 4.60839e+05,\n",
              "        4.61455e+05, 4.59805e+05, 4.61626e+05, 4.61167e+05, 4.61343e+05,\n",
              "        4.60352e+05, 4.59592e+05, 4.59797e+05, 4.58157e+05, 4.57940e+05,\n",
              "        4.59139e+05, 4.58303e+05, 4.57824e+05, 4.54944e+05, 4.55726e+05,\n",
              "        4.55239e+05, 4.53848e+05, 4.53127e+05, 4.51082e+05, 4.50617e+05,\n",
              "        4.48771e+05, 4.48113e+05, 4.47372e+05, 4.45082e+05, 4.44952e+05,\n",
              "        4.42710e+05, 4.41557e+05, 4.40240e+05, 4.38223e+05, 4.36765e+05,\n",
              "        4.33738e+05, 4.32874e+05, 4.31183e+05, 4.30680e+05, 4.27526e+05,\n",
              "        4.24994e+05, 4.23919e+05, 4.21158e+05, 4.18014e+05, 4.17058e+05,\n",
              "        4.14722e+05, 4.12545e+05, 4.09258e+05, 4.06861e+05, 4.05898e+05,\n",
              "        4.03305e+05, 4.00902e+05, 3.97720e+05, 3.96209e+05, 3.92985e+05,\n",
              "        3.90906e+05, 3.89356e+05, 3.85281e+05, 3.82686e+05, 3.79766e+05,\n",
              "        3.77748e+05, 3.74199e+05, 3.72378e+05, 3.69772e+05, 3.66588e+05,\n",
              "        3.63695e+05, 3.61120e+05, 3.57779e+05, 3.52807e+05, 3.50298e+05,\n",
              "        3.47842e+05, 3.45521e+05, 3.41505e+05, 3.38870e+05, 3.36023e+05,\n",
              "        3.33399e+05, 3.29427e+05, 3.26539e+05, 3.23910e+05, 3.20484e+05,\n",
              "        3.17242e+05, 3.13948e+05, 3.11401e+05, 3.08113e+05, 3.03826e+05,\n",
              "        3.01165e+05, 2.98322e+05, 2.95495e+05, 2.91177e+05, 2.89479e+05,\n",
              "        2.84696e+05, 2.82369e+05, 2.78876e+05, 2.75188e+05, 2.72155e+05,\n",
              "        2.68950e+05, 2.66033e+05, 2.63116e+05, 2.59961e+05, 2.56420e+05,\n",
              "        2.53366e+05, 2.49638e+05, 2.47087e+05, 2.42678e+05, 2.40730e+05,\n",
              "        2.37839e+05, 2.34483e+05, 2.30625e+05, 2.28427e+05, 2.25190e+05,\n",
              "        2.22070e+05, 2.17648e+05, 2.15418e+05, 2.12402e+05, 2.08652e+05,\n",
              "        2.05765e+05, 2.03292e+05, 2.00419e+05, 1.96714e+05, 1.94034e+05,\n",
              "        1.91470e+05, 1.88835e+05, 1.84836e+05, 1.81976e+05, 1.79916e+05,\n",
              "        1.76597e+05, 1.73428e+05, 1.70900e+05, 1.68179e+05, 1.65409e+05,\n",
              "        1.63675e+05, 1.60007e+05, 1.57527e+05, 1.55232e+05, 1.52824e+05,\n",
              "        1.49577e+05, 1.46827e+05, 1.44909e+05, 1.42608e+05, 1.39810e+05,\n",
              "        1.36597e+05, 1.34461e+05, 1.31858e+05, 1.29909e+05, 1.26757e+05,\n",
              "        1.24705e+05, 1.22477e+05, 1.20520e+05, 1.17787e+05, 1.16537e+05,\n",
              "        1.13650e+05, 1.11137e+05, 1.08966e+05, 1.07079e+05, 1.05193e+05,\n",
              "        1.02530e+05, 1.01153e+05, 9.90830e+04, 9.68790e+04, 9.48200e+04,\n",
              "        9.30380e+04, 9.16090e+04, 8.91000e+04, 8.75460e+04, 8.56340e+04,\n",
              "        8.41370e+04, 8.16420e+04, 8.06460e+04, 7.80970e+04, 7.67370e+04,\n",
              "        7.51460e+04, 7.35180e+04, 7.22760e+04, 7.05980e+04, 6.83580e+04,\n",
              "        6.68490e+04, 6.60840e+04, 6.43890e+04, 6.31040e+04, 6.11650e+04,\n",
              "        6.00410e+04, 5.85460e+04, 5.71840e+04, 5.57320e+04, 5.39070e+04,\n",
              "        5.31590e+04, 5.19030e+04, 5.07100e+04, 4.92520e+04, 4.86040e+04,\n",
              "        4.69560e+04, 4.57950e+04, 4.49830e+04, 4.35700e+04, 4.26010e+04,\n",
              "        4.12420e+04, 4.02950e+04, 3.93070e+04, 3.84070e+04, 3.76510e+04,\n",
              "        3.67610e+04, 3.55990e+04, 3.47640e+04, 3.38320e+04, 3.33890e+04,\n",
              "        3.19110e+04, 3.13230e+04, 3.02370e+04, 2.97350e+04, 2.84450e+04,\n",
              "        2.79650e+04, 2.70940e+04, 2.65240e+04, 2.58080e+04, 2.49670e+04,\n",
              "        2.44380e+04, 2.37190e+04, 2.31580e+04, 2.23030e+04, 2.19410e+04,\n",
              "        2.14530e+04, 2.06760e+04, 1.99280e+04, 1.94180e+04, 1.88010e+04,\n",
              "        1.83880e+04, 1.77240e+04, 1.72670e+04, 1.66860e+04, 1.61270e+04,\n",
              "        1.58840e+04, 1.55150e+04, 1.48490e+04, 1.43190e+04, 1.40500e+04,\n",
              "        1.36490e+04, 1.31960e+04, 1.28170e+04, 1.24100e+04, 1.19770e+04,\n",
              "        1.15960e+04, 1.11500e+04, 1.09910e+04, 1.05830e+04, 1.01810e+04,\n",
              "        9.84200e+03, 9.53200e+03, 9.07700e+03, 8.91900e+03, 8.75500e+03,\n",
              "        8.44100e+03, 8.26400e+03, 8.01800e+03, 7.65100e+03, 7.35900e+03,\n",
              "        7.20900e+03, 6.87700e+03, 6.67600e+03, 6.56300e+03, 6.20700e+03,\n",
              "        6.02400e+03, 5.81200e+03, 5.58400e+03, 5.30600e+03, 5.36600e+03,\n",
              "        5.08800e+03, 4.90200e+03, 4.67500e+03, 4.53900e+03, 4.45300e+03,\n",
              "        4.19500e+03, 4.11700e+03, 3.95200e+03, 3.83900e+03, 3.62000e+03,\n",
              "        3.63400e+03, 3.42100e+03, 3.31700e+03, 3.22500e+03, 3.04400e+03,\n",
              "        2.91100e+03, 2.89100e+03, 2.78700e+03, 2.56900e+03, 2.55200e+03,\n",
              "        2.45900e+03, 2.38900e+03, 2.24200e+03, 2.20800e+03, 2.15800e+03,\n",
              "        2.00500e+03, 2.02300e+03, 1.88900e+03, 1.87400e+03, 1.70300e+03,\n",
              "        1.67100e+03, 1.68000e+03, 1.61700e+03, 1.52400e+03, 1.44400e+03,\n",
              "        1.33400e+03, 1.36500e+03, 1.32300e+03, 1.22600e+03, 1.18300e+03,\n",
              "        1.14000e+03, 1.07500e+03, 9.78000e+02, 1.00800e+03, 9.99000e+02,\n",
              "        9.44000e+02, 9.09000e+02, 8.45000e+02, 8.08000e+02, 7.91000e+02,\n",
              "        7.56000e+02, 7.48000e+02, 7.16000e+02, 6.58000e+02, 6.62000e+02,\n",
              "        6.17000e+02, 5.90000e+02, 5.43000e+02, 5.36000e+02, 5.18000e+02,\n",
              "        5.18000e+02, 4.84000e+02, 4.79000e+02, 4.47000e+02, 4.01000e+02,\n",
              "        4.67000e+02, 3.98000e+02, 3.35000e+02, 3.45000e+02, 3.34000e+02,\n",
              "        3.17000e+02, 3.23000e+02, 3.15000e+02, 2.78000e+02, 2.42000e+02,\n",
              "        2.61000e+02, 2.82000e+02, 2.26000e+02, 2.41000e+02, 2.05000e+02,\n",
              "        2.14000e+02, 1.79000e+02, 1.72000e+02, 1.70000e+02, 1.93000e+02,\n",
              "        1.61000e+02, 1.56000e+02, 1.61000e+02, 1.33000e+02, 1.41000e+02,\n",
              "        1.27000e+02, 1.39000e+02, 1.34000e+02, 1.09000e+02, 1.09000e+02,\n",
              "        9.80000e+01, 1.00000e+02, 7.50000e+01, 8.80000e+01, 9.20000e+01,\n",
              "        8.40000e+01, 7.40000e+01, 7.10000e+01, 6.00000e+01, 5.90000e+01,\n",
              "        6.10000e+01, 5.50000e+01, 5.20000e+01, 6.80000e+01, 5.40000e+01,\n",
              "        5.10000e+01, 3.50000e+01, 4.20000e+01, 4.90000e+01, 3.90000e+01,\n",
              "        4.40000e+01, 3.60000e+01, 4.10000e+01, 4.10000e+01, 3.00000e+01,\n",
              "        3.30000e+01, 4.00000e+01, 2.90000e+01, 2.10000e+01, 2.60000e+01,\n",
              "        1.70000e+01, 2.30000e+01, 2.30000e+01, 2.80000e+01, 1.80000e+01,\n",
              "        1.80000e+01, 1.50000e+01, 8.00000e+00, 1.00000e+01, 1.10000e+01,\n",
              "        1.20000e+01, 1.50000e+01, 1.10000e+01, 1.20000e+01, 1.10000e+01,\n",
              "        7.00000e+00, 1.10000e+01, 7.00000e+00, 3.00000e+00, 7.00000e+00,\n",
              "        8.00000e+00, 6.00000e+00, 9.00000e+00, 2.00000e+00, 6.00000e+00,\n",
              "        1.00000e+01, 6.00000e+00, 3.00000e+00, 1.00000e+00, 2.00000e+00,\n",
              "        6.00000e+00, 3.00000e+00, 5.00000e+00, 3.00000e+00, 2.00000e+00,\n",
              "        1.00000e+00, 3.00000e+00, 6.00000e+00, 5.00000e+00, 1.00000e+00,\n",
              "        3.00000e+00, 2.00000e+00, 1.00000e+00, 2.00000e+00, 5.00000e+00,\n",
              "        4.00000e+00, 0.00000e+00, 3.00000e+00, 4.00000e+00, 2.00000e+00,\n",
              "        2.00000e+00, 1.00000e+00, 0.00000e+00, 1.00000e+00, 0.00000e+00,\n",
              "        0.00000e+00, 1.00000e+00, 0.00000e+00, 0.00000e+00, 0.00000e+00,\n",
              "        1.00000e+00, 1.00000e+00, 1.00000e+00, 0.00000e+00, 2.00000e+00,\n",
              "        0.00000e+00, 1.00000e+00, 0.00000e+00, 0.00000e+00, 1.00000e+00,\n",
              "        0.00000e+00, 0.00000e+00, 0.00000e+00, 0.00000e+00, 0.00000e+00,\n",
              "        0.00000e+00, 2.00000e+00, 0.00000e+00, 0.00000e+00, 0.00000e+00,\n",
              "        0.00000e+00, 0.00000e+00, 0.00000e+00, 0.00000e+00, 0.00000e+00,\n",
              "        0.00000e+00, 0.00000e+00, 0.00000e+00, 0.00000e+00, 0.00000e+00,\n",
              "        0.00000e+00, 0.00000e+00, 0.00000e+00, 0.00000e+00, 0.00000e+00,\n",
              "        0.00000e+00, 0.00000e+00, 0.00000e+00, 0.00000e+00, 0.00000e+00,\n",
              "        1.00000e+00, 0.00000e+00, 0.00000e+00, 0.00000e+00, 0.00000e+00,\n",
              "        0.00000e+00, 0.00000e+00, 0.00000e+00, 0.00000e+00, 0.00000e+00,\n",
              "        0.00000e+00, 0.00000e+00, 0.00000e+00, 0.00000e+00, 1.00000e+00]),\n",
              " array([-5.78779834, -5.77623953, -5.76468073, ...,  5.74789146,\n",
              "         5.75945027,  5.77100907]),\n",
              " <a list of 1000 Patch objects>)"
            ]
          },
          "metadata": {
            "tags": []
          },
          "execution_count": 12
        },
        {
          "output_type": "display_data",
          "data": {
            "image/png": "[encoded data removed]",
            "text/plain": [
              "<Figure size 432x288 with 1 Axes>"
            ]
          },
          "metadata": {
            "tags": [],
            "needs_background": "light"
          }
        }
      ]
    },
    {
      "cell_type": "code",
      "metadata": {
        "id": "6tChfL-OPNO5",
        "colab_type": "code",
        "colab": {
          "base_uri": "https://localhost:8080/",
          "height": 34
        },
        "outputId": "dcfc7be7-0895-4956-8713-ab38812e66fa"
      },
      "source": [
        "print(tf.__version__)"
      ],
      "execution_count": 3,
      "outputs": [
        {
          "output_type": "stream",
          "text": [
            "2.2.0-rc3\n"
          ],
          "name": "stdout"
        }
      ]
    }
  ]
}